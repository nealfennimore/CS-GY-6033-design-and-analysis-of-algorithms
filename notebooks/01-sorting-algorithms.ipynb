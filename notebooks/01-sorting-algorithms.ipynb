{
    "cells": [
        {
            "cell_type": "code",
            "execution_count": 1,
            "metadata": {},
            "outputs": [],
            "source": [
                "\n",
                "\n",
                "from typing import List, Optional\n",
                "from src.utils import *\n"
            ]
        },
        {
            "cell_type": "markdown",
            "metadata": {},
            "source": [
                "## Insertion Sort\n",
                "\n",
                "### Time Complexity\n",
                "\n",
                "1. $\\Omega(n)$\n",
                "2. $\\Theta(n^2)$\n",
                "3. $O(n^2)$\n",
                "\n",
                "### Space Complexity\n",
                "\n",
                "1. $O(1)$"
            ]
        },
        {
            "cell_type": "code",
            "execution_count": 2,
            "metadata": {
                "vscode": {
                    "languageId": "html"
                }
            },
            "outputs": [
                {
                    "data": {
                        "text/html": [
                            "<video controls loop autoplay poster=\"images/insertion-sort.gif\">\n",
                            "    <source src=\"images/insertion-sort.mp4\" type=\"video/mp4\" />\n",
                            "</video>\n"
                        ],
                        "text/plain": [
                            "<IPython.core.display.HTML object>"
                        ]
                    },
                    "metadata": {},
                    "output_type": "display_data"
                }
            ],
            "source": [
                "%%html\n",
                "<video controls loop autoplay poster=\"images/insertion-sort.gif\">\n",
                "    <source src=\"images/insertion-sort.mp4\" type=\"video/mp4\" />\n",
                "</video>"
            ]
        },
        {
            "cell_type": "code",
            "execution_count": 3,
            "metadata": {},
            "outputs": [],
            "source": [
                "from typing import List\n",
                "\n",
                "def insertion_sort(A: List[int]):\n",
                "    n = len(A)\n",
                "      \n",
                "    if n <= 1:\n",
                "        return \n",
                " \n",
                "    for i in range(1, n):\n",
                "        key = A[i]\n",
                "        j = i-1\n",
                "        while j >= 0 and key < A[j]:\n",
                "            A[j+1] = A[j]\n",
                "            j -= 1\n",
                "        A[j+1] = key\n",
                "\n",
                "\n",
                "for _ in range(100):\n",
                "    A = generate_random_array()\n",
                "    B = A[:]\n",
                "    insertion_sort(A)\n",
                "\n",
                "    assert A == sorted(B)"
            ]
        },
        {
            "cell_type": "code",
            "execution_count": 4,
            "metadata": {},
            "outputs": [
                {
                    "name": "stdout",
                    "output_type": "stream",
                    "text": [
                        "Constant: time = 2.3E-06 (sec)\n"
                    ]
                }
            ],
            "source": [
                "def insertion_sort_test(A: List[int]):\n",
                "    insertion_sort(A)\n",
                "    return A\n",
                "\n",
                "best, _ = big_o.big_o(insertion_sort_test, lambda n: generate_positive_integers(), n_repeats=1, max_n=20)\n",
                "print(best)"
            ]
        },
        {
            "cell_type": "markdown",
            "metadata": {},
            "source": [
                "## Merge Sort\n",
                "\n",
                "### Time Complexity\n",
                "\n",
                "1. $\\Omega(n \\cdot log(n))$\n",
                "2. $\\Theta(n \\cdot log(n))$\n",
                "3. $O(n \\cdot log(n))$\n",
                "\n",
                "### Space Complexity\n",
                "\n",
                "1. $O(n)$"
            ]
        },
        {
            "cell_type": "code",
            "execution_count": 5,
            "metadata": {
                "vscode": {
                    "languageId": "html"
                }
            },
            "outputs": [
                {
                    "data": {
                        "text/html": [
                            "<video controls loop autoplay poster=\"images/merge-sort.gif\">\n",
                            "    <source src=\"images/merge-sort.mp4\" type=\"video/mp4\" />\n",
                            "</video>\n"
                        ],
                        "text/plain": [
                            "<IPython.core.display.HTML object>"
                        ]
                    },
                    "metadata": {},
                    "output_type": "display_data"
                }
            ],
            "source": [
                "%%html\n",
                "<video controls loop autoplay poster=\"images/merge-sort.gif\">\n",
                "    <source src=\"images/merge-sort.mp4\" type=\"video/mp4\" />\n",
                "</video>"
            ]
        },
        {
            "cell_type": "code",
            "execution_count": 6,
            "metadata": {},
            "outputs": [],
            "source": [
                "import math\n",
                "from typing import List\n",
                "\n",
                "def merge(A: List, s: int, q: int, f: int):\n",
                "    left = A[s:q + 1]\n",
                "    left.append(float('inf'))\n",
                "\n",
                "    right = A[q + 1:f + 1]\n",
                "    right.append(float('inf'))\n",
                "\n",
                "    i = 0\n",
                "    j = 0\n",
                "\n",
                "    for k in range(s, f + 1):\n",
                "        if left[i] < right[j]:\n",
                "            A[k] = left[i]\n",
                "            i += 1\n",
                "        else:\n",
                "            A[k] = right[j]\n",
                "            j += 1\n",
                "\n",
                "\n",
                "def merge_sort(A: List, s: int, f: int):\n",
                "    if s < f:\n",
                "        q = math.floor((s + f) / 2) # Constant c2\n",
                "        merge_sort(A, s, q) # T(n/2)\n",
                "        merge_sort(A, q + 1, f)  # T(n/2)\n",
                "        merge(A, s, q, f ) # cn\n",
                "\n",
                "\n",
                "for _ in range(100):\n",
                "    A = generate_random_array()\n",
                "    B = A[:]\n",
                "    merge_sort(A, 0, len(A) - 1)\n",
                "\n",
                "    assert A == sorted(B)"
            ]
        },
        {
            "cell_type": "markdown",
            "metadata": {},
            "source": [
                "## Quicksort\n",
                "\n",
                "### Time Complexity\n",
                "\n",
                "1. $\\Omega(n \\cdot log(n))$\n",
                "2. $\\Theta(n \\cdot log(n))$\n",
                "3. $O(n^2)$\n",
                "\n",
                "### Space Complexity\n",
                "\n",
                "1. $O(log(n))$"
            ]
        },
        {
            "cell_type": "code",
            "execution_count": 7,
            "metadata": {
                "vscode": {
                    "languageId": "html"
                }
            },
            "outputs": [
                {
                    "data": {
                        "text/html": [
                            "<video controls loop autoplay poster=\"images/quick-sort.gif\">\n",
                            "    <source src=\"images/quick-sort.mp4\" type=\"video/mp4\" />\n",
                            "</video>\n"
                        ],
                        "text/plain": [
                            "<IPython.core.display.HTML object>"
                        ]
                    },
                    "metadata": {},
                    "output_type": "display_data"
                }
            ],
            "source": [
                "%%html\n",
                "<video controls loop autoplay poster=\"images/quick-sort.gif\">\n",
                "    <source src=\"images/quick-sort.mp4\" type=\"video/mp4\" />\n",
                "</video>"
            ]
        },
        {
            "cell_type": "code",
            "execution_count": 8,
            "metadata": {},
            "outputs": [],
            "source": [
                "from typing import List\n",
                "\n",
                "def quicksort(A: List, s: int, f: int):\n",
                "    if s < f:\n",
                "        r = partition(A, s, f)\n",
                "        quicksort(A, s, r - 1)\n",
                "        quicksort(A, r + 1, f)\n",
                "\n",
                "\n",
                "for _ in range(100):\n",
                "    A = generate_random_array()\n",
                "    B = A[:]\n",
                "    quicksort(A, 0, len(A) - 1)\n",
                "\n",
                "    assert A == sorted(B)"
            ]
        },
        {
            "cell_type": "markdown",
            "metadata": {},
            "source": [
                "## Bubble Sort\n",
                "\n",
                "### Time Complexity\n",
                "\n",
                "1. $\\Omega(n)$\n",
                "2. $\\Theta(n^2)$\n",
                "3. $O(n^2)$\n",
                "\n",
                "### Space Complexity\n",
                "\n",
                "1. $O(1)$"
            ]
        },
        {
            "cell_type": "code",
            "execution_count": 9,
            "metadata": {
                "vscode": {
                    "languageId": "html"
                }
            },
            "outputs": [
                {
                    "data": {
                        "text/html": [
                            "<video controls loop autoplay poster=\"images/bubble-sort.gif\">\n",
                            "    <source src=\"images/bubble-sort.mp4\" type=\"video/mp4\" />\n",
                            "</video>\n"
                        ],
                        "text/plain": [
                            "<IPython.core.display.HTML object>"
                        ]
                    },
                    "metadata": {},
                    "output_type": "display_data"
                }
            ],
            "source": [
                "%%html\n",
                "<video controls loop autoplay poster=\"images/bubble-sort.gif\">\n",
                "    <source src=\"images/bubble-sort.mp4\" type=\"video/mp4\" />\n",
                "</video>"
            ]
        },
        {
            "cell_type": "code",
            "execution_count": 10,
            "metadata": {},
            "outputs": [],
            "source": [
                "from typing import List\n",
                "\n",
                "def bubble_sort(A: List):\n",
                "    n = len(A)\n",
                "\n",
                "    for i in range(n):\n",
                "        for j in range(n - 1):\n",
                "            if(A[j] > A[j + 1]):\n",
                "                swap(A, j, j +1)\n",
                "\n",
                "for _ in range(100):\n",
                "    A = generate_random_array()\n",
                "    B = A[:]\n",
                "    bubble_sort(A)\n",
                "\n",
                "    assert A == sorted(B)"
            ]
        },
        {
            "cell_type": "markdown",
            "metadata": {},
            "source": [
                "## Selection Sort\n",
                "\n",
                "### Time Complexity\n",
                "\n",
                "1. $\\Omega(n^2)$\n",
                "2. $\\Theta(n^2)$\n",
                "3. $O(n^2)$\n",
                "\n",
                "### Space Complexity\n",
                "\n",
                "1. $O(1)$"
            ]
        },
        {
            "cell_type": "code",
            "execution_count": 11,
            "metadata": {
                "vscode": {
                    "languageId": "html"
                }
            },
            "outputs": [
                {
                    "data": {
                        "text/html": [
                            "<video controls loop autoplay poster=\"images/selection-sort.gif\">\n",
                            "    <source src=\"images/selection-sort.mp4\" type=\"video/mp4\" />\n",
                            "</video>\n"
                        ],
                        "text/plain": [
                            "<IPython.core.display.HTML object>"
                        ]
                    },
                    "metadata": {},
                    "output_type": "display_data"
                }
            ],
            "source": [
                "%%html\n",
                "<video controls loop autoplay poster=\"images/selection-sort.gif\">\n",
                "    <source src=\"images/selection-sort.mp4\" type=\"video/mp4\" />\n",
                "</video>"
            ]
        },
        {
            "cell_type": "code",
            "execution_count": 12,
            "metadata": {},
            "outputs": [],
            "source": [
                "from typing import List\n",
                "\n",
                "def selection_sort(A: List):\n",
                "    for i in range(len(A) - 1):\n",
                "        minimum_idx = i\n",
                "\n",
                "        for j in range(i+1, len(A)):\n",
                "            if A[j] < A[minimum_idx]:\n",
                "                minimum_idx = j\n",
                "\n",
                "        swap(A, i, minimum_idx)\n",
                "\n",
                "for _ in range(100):\n",
                "    A = generate_random_array()\n",
                "    B = A[:]\n",
                "    selection_sort(A)\n",
                "\n",
                "    assert A == sorted(B)\n"
            ]
        },
        {
            "cell_type": "markdown",
            "metadata": {},
            "source": [
                "## Counting Sort\n",
                "\n",
                "### Time Complexity\n",
                "\n",
                "1. $\\Omega(n + k)$\n",
                "2. $\\Theta(n + k)$\n",
                "3. $O(n + k)$\n",
                "\n",
                "### Space Complexity\n",
                "\n",
                "1. $O(k)$"
            ]
        },
        {
            "cell_type": "code",
            "execution_count": 13,
            "metadata": {
                "vscode": {
                    "languageId": "html"
                }
            },
            "outputs": [
                {
                    "data": {
                        "text/html": [
                            "<video controls loop autoplay poster=\"images/counting-sort.gif\">\n",
                            "    <source src=\"images/counting-sort.mp4\" type=\"video/mp4\" />\n",
                            "</video>\n"
                        ],
                        "text/plain": [
                            "<IPython.core.display.HTML object>"
                        ]
                    },
                    "metadata": {},
                    "output_type": "display_data"
                }
            ],
            "source": [
                "%%html\n",
                "<video controls loop autoplay poster=\"images/counting-sort.gif\">\n",
                "    <source src=\"images/counting-sort.mp4\" type=\"video/mp4\" />\n",
                "</video>"
            ]
        },
        {
            "cell_type": "code",
            "execution_count": 14,
            "metadata": {},
            "outputs": [],
            "source": [
                "def counting_sort(A: List[int]):\n",
                "    n = len(A)\n",
                "    counts = [0] * 10\n",
                "    output = [0] * n\n",
                "\n",
                "    for item in A:\n",
                "        counts[item] += 1\n",
                "\n",
                "    for i in range(1, 10):\n",
                "        counts[i] += counts[i-1]\n",
                "\n",
                "    for item in A:\n",
                "        output[counts[item] - 1] = item\n",
                "        counts[item] -= 1\n",
                "\n",
                "    for i in range(n):\n",
                "        A[i] = output[i]\n",
                "\n",
                "\n",
                "for _ in range(100):\n",
                "    A = np.random.randint(0, 9, 10).tolist()\n",
                "    B = A[:]\n",
                "    counting_sort(A)\n",
                "    assert A == sorted(B)"
            ]
        },
        {
            "cell_type": "markdown",
            "metadata": {},
            "source": [
                "## Radix Sort\n",
                "\n",
                "### Time Complexity\n",
                "\n",
                "1. $\\Omega(nk)$\n",
                "2. $\\Theta(nk)$\n",
                "3. $O(nk)$\n",
                "\n",
                "### Space Complexity\n",
                "\n",
                "1. $O(n+k)$\n"
            ]
        },
        {
            "cell_type": "code",
            "execution_count": 15,
            "metadata": {
                "vscode": {
                    "languageId": "html"
                }
            },
            "outputs": [
                {
                    "data": {
                        "text/html": [
                            "<video controls loop autoplay poster=\"images/radix-sort.gif\">\n",
                            "    <source src=\"images/radix-sort.mp4\" type=\"video/mp4\" />\n",
                            "</video>\n"
                        ],
                        "text/plain": [
                            "<IPython.core.display.HTML object>"
                        ]
                    },
                    "metadata": {},
                    "output_type": "display_data"
                }
            ],
            "source": [
                "%%html\n",
                "<video controls loop autoplay poster=\"images/radix-sort.gif\">\n",
                "    <source src=\"images/radix-sort.mp4\" type=\"video/mp4\" />\n",
                "</video>"
            ]
        },
        {
            "cell_type": "code",
            "execution_count": 16,
            "metadata": {},
            "outputs": [],
            "source": [
                "def counting_sort(A: List[int], place: int):\n",
                "    n = len(A)\n",
                "    counts = [0] * 10\n",
                "    output = [0] * n\n",
                "\n",
                "    for item in A:\n",
                "        idx = (item // place) % 10\n",
                "        counts[idx] += 1\n",
                "\n",
                "    for i in range(1,10): \n",
                "        counts[i] += counts[i-1] \n",
                "\n",
                "    for i in range(n-1, -1, -1):\n",
                "        idx = (A[i] // place) % 10\n",
                "        output[counts[idx] - 1] = A[i]\n",
                "        counts[idx] -= 1\n",
                "\n",
                "    for i in range(n):\n",
                "        A[i] = output[i]\n",
                "\n",
                "def radix_sort(A: List[int]):\n",
                "    m = max(A)\n",
                "\n",
                "    place = 1\n",
                "    while m // place > 0:\n",
                "        counting_sort(A, place)\n",
                "        place *= 10\n",
                "\n",
                "for _ in range(100):\n",
                "    A = generate_random_array()\n",
                "    B = A[:]\n",
                "    radix_sort(A)\n",
                "    assert A == sorted(B)"
            ]
        },
        {
            "cell_type": "markdown",
            "metadata": {},
            "source": [
                "## Bucket Sort\n",
                "\n",
                "### Time Complexity\n",
                "\n",
                "1. $\\Omega(n)$\n",
                "2. $\\Theta(n)$\n",
                "3. Expected: $O(n)$. Worst: $O(n^2)$\n",
                "\n",
                "### Space Complexity\n",
                "\n",
                "1. $O(n)$"
            ]
        },
        {
            "cell_type": "code",
            "execution_count": 17,
            "metadata": {
                "vscode": {
                    "languageId": "html"
                }
            },
            "outputs": [
                {
                    "data": {
                        "text/html": [
                            "<video controls loop autoplay poster=\"images/bucket-sort.gif\">\n",
                            "    <source src=\"images/bucket-sort.mp4\" type=\"video/mp4\" />\n",
                            "</video>\n"
                        ],
                        "text/plain": [
                            "<IPython.core.display.HTML object>"
                        ]
                    },
                    "metadata": {},
                    "output_type": "display_data"
                }
            ],
            "source": [
                "%%html\n",
                "<video controls loop autoplay poster=\"images/bucket-sort.gif\">\n",
                "    <source src=\"images/bucket-sort.mp4\" type=\"video/mp4\" />\n",
                "</video>"
            ]
        },
        {
            "cell_type": "code",
            "execution_count": 18,
            "metadata": {},
            "outputs": [],
            "source": [
                "def bucket_sort(A: List[int]):\n",
                "    # Find the maximum value in the A\n",
                "    max_val = max(A)\n",
                "    \n",
                "    # Create empty buckets\n",
                "    buckets = [[] for _ in range(len(A))]\n",
                "    \n",
                "    # Distribute elements into buckets based on their value\n",
                "    for num in A:\n",
                "        index = int(num * len(A) / (max_val + 1))\n",
                "        buckets[index].append(num)\n",
                "    \n",
                "    # Sort each bucket individually\n",
                "    for bucket in buckets:\n",
                "        bucket.sort()\n",
                "    \n",
                "    # Concatenate all the sorted buckets\n",
                "    return [item for bucket in buckets for item in bucket]\n",
                "\n",
                "\n",
                "for _ in range(100):\n",
                "    A = generate_random_array()\n",
                "    B = A[:]\n",
                "    assert bucket_sort(A) == sorted(B)"
            ]
        },
        {
            "cell_type": "markdown",
            "metadata": {},
            "source": [
                "## Heapsort\n",
                "\n",
                "### Time Complexity\n",
                "\n",
                "1. $\\Omega(n \\cdot log(n))$\n",
                "2. $\\Theta(n \\cdot log(n))$\n",
                "3. $O(n \\cdot log(n))$\n",
                "\n",
                "### Space Complexity\n",
                "\n",
                "1. $O(1)$"
            ]
        },
        {
            "cell_type": "code",
            "execution_count": 19,
            "metadata": {
                "vscode": {
                    "languageId": "html"
                }
            },
            "outputs": [
                {
                    "data": {
                        "text/html": [
                            "<video controls loop autoplay poster=\"images/heap-sort.gif\">\n",
                            "    <source src=\"images/heap-sort.mp4\" type=\"video/mp4\" />\n",
                            "</video>\n"
                        ],
                        "text/plain": [
                            "<IPython.core.display.HTML object>"
                        ]
                    },
                    "metadata": {},
                    "output_type": "display_data"
                }
            ],
            "source": [
                "%%html\n",
                "<video controls loop autoplay poster=\"images/heap-sort.gif\">\n",
                "    <source src=\"images/heap-sort.mp4\" type=\"video/mp4\" />\n",
                "</video>"
            ]
        },
        {
            "cell_type": "code",
            "execution_count": 20,
            "metadata": {},
            "outputs": [],
            "source": [
                "from binarytree import build\n",
                "\n",
                "class Heap(List):\n",
                "    _heapsize: int = 0\n",
                "\n",
                "    def __init__(self, A: List[int]):\n",
                "        super().__init__(A)\n",
                "        self.heapsize = len(A)\n",
                "\n",
                "    @property\n",
                "    def heapsize(self) -> int:\n",
                "        return self._heapsize\n",
                "\n",
                "    @heapsize.setter\n",
                "    def heapsize(self, value: int):\n",
                "        self._heapsize = value\n",
                "\n",
                "def bubble_down(A: Heap, n: int, idx: int):\n",
                "    left = 2 * idx + 1\n",
                "    right = 2 * idx + 2\n",
                "\n",
                "    if left < n and A[idx] < A[left]:\n",
                "        largest = left\n",
                "    else:\n",
                "        largest = idx\n",
                "\n",
                "    if right < n and A[largest] < A[right]:\n",
                "        largest = right\n",
                "\n",
                "    if largest != idx:\n",
                "        swap(A, idx, largest)\n",
                "        bubble_down(A, n, largest)\n",
                "\n",
                "\n",
                "def bottom_build_heap(A: Heap):\n",
                "    n = A.heapsize\n",
                "    for j in range(n//2, -1, -1):\n",
                "        bubble_down(A, n, j)\n",
                "\n",
                "def delete_max(A: Heap):\n",
                "    k = A.heapsize\n",
                "    swap(A, 0, k - 1)\n",
                "    A.heapsize -= 1\n",
                "    bubble_down(A, k - 1, 0)\n",
                "\n",
                "def heapsort(A: Heap):\n",
                "    bottom_build_heap(A)\n",
                "    for _ in range(A.heapsize - 1, 0, -1):\n",
                "        delete_max(A)\n",
                "\n",
                "for _ in range(100):\n",
                "    heap = Heap(generate_random_array())\n",
                "    bottom_build_heap(heap)\n",
                "    root = build(heap)\n",
                "\n",
                "    assert root is not None\n",
                "    assert root.is_max_heap\n",
                "\n",
                "    heap2 = heap[:]\n",
                "    heapsort(heap)\n",
                "    assert heap == sorted(heap2)\n"
            ]
        },
        {
            "cell_type": "markdown",
            "metadata": {},
            "source": [
                "### Bubble-Down\n",
                "\n",
                "Worst case: $O(\\log n)$, so it's always faster than using bubble-up, even when building the entire heap"
            ]
        },
        {
            "cell_type": "code",
            "execution_count": 21,
            "metadata": {},
            "outputs": [],
            "source": [
                "from binarytree import build\n",
                "\n",
                "def bubble_down(A: Heap, n: int, idx: int):\n",
                "    left = 2 * idx + 1\n",
                "    right = 2 * idx + 2\n",
                "\n",
                "    if left < n and A[idx] < A[left]:\n",
                "        largest = left\n",
                "    else:\n",
                "        largest = idx\n",
                "\n",
                "    if right < n and A[largest] < A[right]:\n",
                "        largest = right\n",
                "\n",
                "    if largest != idx:\n",
                "        swap(A, idx, largest)\n",
                "        bubble_down(A, n, largest)\n",
                "\n",
                "\n",
                "def bottom_build_heap(A: Heap):\n",
                "    n = A.heapsize\n",
                "    for j in range(n//2, -1, -1):\n",
                "        bubble_down(A, n, j)\n",
                "\n",
                "for _ in range(100):\n",
                "    heap = Heap(generate_random_array())\n",
                "    bottom_build_heap(heap)\n",
                "    root = build(heap)\n",
                "\n",
                "    assert root is not None\n",
                "    assert root.is_max_heap"
            ]
        },
        {
            "cell_type": "markdown",
            "metadata": {},
            "source": [
                "### Bubble-Up\n",
                "\n",
                "Worst case: $O(\\log n)$\n",
                "\n",
                "However, building the entire heap will be $O(n \\log n)$"
            ]
        },
        {
            "cell_type": "code",
            "execution_count": 22,
            "metadata": {},
            "outputs": [],
            "source": [
                "def bubble_up(A: Heap, idx: int):\n",
                "    parent = (idx - 1)//2\n",
                "    if parent >= 0 and A[parent] < A[idx]:\n",
                "        swap(A, idx, parent)\n",
                "        bubble_up(A, parent)\n",
                "\n",
                "def build_heap(A: Heap):\n",
                "    for i in range(1, A.heapsize):\n",
                "        bubble_up(A, i)\n",
                "\n",
                "for _ in range(100):\n",
                "    heap = Heap(generate_random_array())\n",
                "    build_heap(heap)\n",
                "    root = build(heap)\n",
                "\n",
                "    assert root is not None\n",
                "    assert root.is_max_heap"
            ]
        }
    ],
    "metadata": {
        "kernelspec": {
            "display_name": "Python 3.10.5 64-bit ('3.10.5')",
            "language": "python",
            "name": "python3"
        },
        "language_info": {
            "codemirror_mode": {
                "name": "ipython",
                "version": 3
            },
            "file_extension": ".py",
            "mimetype": "text/x-python",
            "name": "python",
            "nbconvert_exporter": "python",
            "pygments_lexer": "ipython3",
            "version": "3.10.12"
        },
        "orig_nbformat": 4,
        "vscode": {
            "interpreter": {
                "hash": "ac9b2124a01b77bcc083aa19222b33e4173482e3fa3b54619463d9435c492a52"
            }
        }
    },
    "nbformat": 4,
    "nbformat_minor": 2
}
