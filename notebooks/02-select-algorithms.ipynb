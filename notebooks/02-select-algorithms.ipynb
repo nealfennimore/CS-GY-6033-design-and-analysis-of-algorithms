{
    "cells": [
        {
            "cell_type": "markdown",
            "metadata": {},
            "source": [
                "# Select\n",
                "\n",
                "## Time Complexity\n",
                "\n",
                "- Worst case: $O(n^2)$\n",
                "- Expected case: $O(n)$"
            ]
        },
        {
            "cell_type": "code",
            "execution_count": 24,
            "metadata": {},
            "outputs": [],
            "source": [
                "from typing import List\n",
                "from src.utils import generate_random_array, randint, partition\n",
                "\n",
                "def select(A: List[int], s: int, f: int, k: int):\n",
                "    if s >= f:\n",
                "        return A[s]\n",
                "    \n",
                "    q = partition(A, s, f)\n",
                "    i = q - s + 1 # Low-side of the partition\n",
                "\n",
                "    if k == i:\n",
                "        return A[q]\n",
                "    elif k < i:\n",
                "        return select(A, s, q - 1, k)\n",
                "    else:\n",
                "        return select(A, q + 1, f, k - i)\n",
                "\n",
                "for _ in range(100):\n",
                "    A = generate_random_array()\n",
                "    k = randint(0, len(A) - 1)\n",
                "        \n",
                "    B = A[:]\n",
                "\n",
                "    k_element = sorted(B)[max(0, k-1)]\n",
                "    assert select(A, 0, len(A) - 1, k) == k_element"
            ]
        },
        {
            "cell_type": "markdown",
            "metadata": {},
            "source": [
                "# Randomized Select\n",
                "\n",
                "## Time Complexity\n",
                "\n",
                "- Worst case: $O(n^2)$\n",
                "- Expected case: $O(n)$"
            ]
        },
        {
            "cell_type": "code",
            "execution_count": 25,
            "metadata": {},
            "outputs": [],
            "source": [
                "from src.utils import random_partition\n",
                "\n",
                "def randomized_select(A: List[int], s: int, f: int, k: int):\n",
                "    if s >= f:\n",
                "        return A[s]\n",
                "\n",
                "    q = random_partition(A, s, f)\n",
                "\n",
                "    i = q - s + 1 # Low-side of the partition\n",
                "\n",
                "    if i == k:\n",
                "        return A[q] \n",
                "    \n",
                "    elif k < i:\n",
                "        return randomized_select(A, s, q - 1, k)\n",
                "    else:\n",
                "        return randomized_select(A, q + 1, f, k - i)\n",
                "        \n",
                "\n",
                "for _ in range(100):\n",
                "    A = generate_random_array()\n",
                "    k = randint(0, len(A) - 1)\n",
                "        \n",
                "    B = A[:]\n",
                "\n",
                "    k_element = sorted(B)[max(0, k-1)]\n",
                "\n",
                "    assert randomized_select(A, 0, len(A) - 1, k) == k_element"
            ]
        }
    ],
    "metadata": {
        "kernelspec": {
            "display_name": "Python 3.10.5 64-bit ('3.10.5')",
            "language": "python",
            "name": "python3"
        },
        "language_info": {
            "codemirror_mode": {
                "name": "ipython",
                "version": 3
            },
            "file_extension": ".py",
            "mimetype": "text/x-python",
            "name": "python",
            "nbconvert_exporter": "python",
            "pygments_lexer": "ipython3",
            "version": "3.10.12"
        },
        "orig_nbformat": 4,
        "vscode": {
            "interpreter": {
                "hash": "ac9b2124a01b77bcc083aa19222b33e4173482e3fa3b54619463d9435c492a52"
            }
        }
    },
    "nbformat": 4,
    "nbformat_minor": 2
}
