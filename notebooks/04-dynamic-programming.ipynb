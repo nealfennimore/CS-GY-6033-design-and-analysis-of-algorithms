{
 "cells": [
  {
   "cell_type": "code",
   "execution_count": 1,
   "metadata": {},
   "outputs": [],
   "source": [
    "# Dependencies\n",
    "\n",
    "from typing import List, Optional, Dict\n",
    "from src.tree.step import Stepper, ctx, Hash, Tree\n",
    "from src.mermaid import Mermaid"
   ]
  },
  {
   "cell_type": "markdown",
   "metadata": {},
   "source": [
    "## Fibonacci\n",
    "\n",
    "### Without Dynamic Programming"
   ]
  },
  {
   "cell_type": "code",
   "execution_count": 2,
   "metadata": {},
   "outputs": [
    {
     "data": {
      "text/html": [
       "<img src=\"https://mermaid.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\"/>"
      ],
      "text/plain": [
       "<IPython.core.display.Image object>"
      ]
     },
     "metadata": {},
     "output_type": "display_data"
    }
   ],
   "source": [
    "def fib(n: int, parent_id: Optional[Hash] = None):\n",
    "    id = ctx.get().hash()\n",
    "    ctx.get().called_with(id, parent_id, fib, [n])\n",
    "    if n <= 1:\n",
    "        ctx.get().returned_with(id, parent_id, n)\n",
    "        return n\n",
    "\n",
    "    r1 = fib(n - 1, id)\n",
    "    r2 = fib(n - 2, id)\n",
    "    ctx.get().returned_with(id, parent_id, r1 + r2)\n",
    "    return r1 + r2\n",
    "\n",
    "result, token = Stepper.run(fib, 8)\n",
    "assert result == 21\n",
    "\n",
    "tree = Tree.build(ctx.get().called_with_output_values)\n",
    "\n",
    "ctx.reset(token)\n",
    "tree.render(tree.root).to_image()"
   ]
  },
  {
   "cell_type": "markdown",
   "metadata": {},
   "source": [
    "## With Dynamic Programming"
   ]
  },
  {
   "cell_type": "code",
   "execution_count": 3,
   "metadata": {},
   "outputs": [
    {
     "data": {
      "text/html": [
       "<img src=\"https://mermaid.ink/img/CmZsb3djaGFydCBURApjbGFzc0RlZiBjYWNoZWQgZmlsbDojNGE4YmFkLGNvbG9yOiNmZmYKX1JPT1RbImZpYig4KSA9IDIxIl06OjpyZXR1cm4KX1JPT1RbImZpYig4KSA9IDIxIl06OjpyZXR1cm4gLS0+IF9ST09ULUwxWyJmaWIoNykgPSAxMyJdOjo6cmV0dXJuCl9ST09ULUwxWyJmaWIoNykgPSAxMyJdOjo6cmV0dXJuIC0tPiBfUk9PVC1MMS1MMlsiZmliKDYpID0gOCJdOjo6cmV0dXJuCl9ST09ULUwxLUwyWyJmaWIoNikgPSA4Il06OjpyZXR1cm4gLS0+IF9ST09ULUwxLUwyLUwzWyJmaWIoNSkgPSA1Il06OjpyZXR1cm4KX1JPT1QtTDEtTDItTDNbImZpYig1KSA9IDUiXTo6OnJldHVybiAtLT4gX1JPT1QtTDEtTDItTDMtTDRbImZpYig0KSA9IDMiXTo6OnJldHVybgpfUk9PVC1MMS1MMi1MMy1MNFsiZmliKDQpID0gMyJdOjo6cmV0dXJuIC0tPiBfUk9PVC1MMS1MMi1MMy1MNC1MNVsiZmliKDMpID0gMiJdOjo6cmV0dXJuCl9ST09ULUwxLUwyLUwzLUw0LUw1WyJmaWIoMykgPSAyIl06OjpyZXR1cm4gLS0+IF9ST09ULUwxLUwyLUwzLUw0LUw1LUw2WyJmaWIoMikgPSAxIl06OjpyZXR1cm4KX1JPT1QtTDEtTDItTDMtTDQtTDUtTDZbImZpYigyKSA9IDEiXTo6OnJldHVybiAtLT4gX1JPT1QtTDEtTDItTDMtTDQtTDUtTDYtTDdbImZpYigxKSA9IDEiXTo6OnJldHVybgpfUk9PVC1MMS1MMi1MMy1MNC1MNS1MNlsiZmliKDIpID0gMSJdOjo6cmV0dXJuIC0tPiBfUk9PVC1MMS1MMi1MMy1MNC1MNS1MNi1SN1siZmliKDApID0gMCJdOjo6cmV0dXJuCl9ST09ULUwxLUwyLUwzLUw0LUw1WyJmaWIoMykgPSAyIl06OjpyZXR1cm4gLS0+IF9ST09ULUwxLUwyLUwzLUw0LUw1LVI2WyJmaWIoMSkgPSAxIl06OjpjYWNoZWQKX1JPT1QtTDEtTDItTDMtTDRbImZpYig0KSA9IDMiXTo6OnJldHVybiAtLT4gX1JPT1QtTDEtTDItTDMtTDQtUjVbImZpYigyKSA9IDEiXTo6OmNhY2hlZApfUk9PVC1MMS1MMi1MM1siZmliKDUpID0gNSJdOjo6cmV0dXJuIC0tPiBfUk9PVC1MMS1MMi1MMy1SNFsiZmliKDMpID0gMiJdOjo6Y2FjaGVkCl9ST09ULUwxLUwyWyJmaWIoNikgPSA4Il06OjpyZXR1cm4gLS0+IF9ST09ULUwxLUwyLVIzWyJmaWIoNCkgPSAzIl06OjpjYWNoZWQKX1JPT1QtTDFbImZpYig3KSA9IDEzIl06OjpyZXR1cm4gLS0+IF9ST09ULUwxLVIyWyJmaWIoNSkgPSA1Il06OjpjYWNoZWQKX1JPT1RbImZpYig4KSA9IDIxIl06OjpyZXR1cm4gLS0+IF9ST09ULVIxWyJmaWIoNikgPSA4Il06OjpjYWNoZWQK\"/>"
      ],
      "text/plain": [
       "<IPython.core.display.Image object>"
      ]
     },
     "metadata": {},
     "output_type": "display_data"
    }
   ],
   "source": [
    "memo: Dict[int, int] = {}\n",
    "\n",
    "def fib(n: int, parent_id: Optional[Hash] = None):\n",
    "    id = ctx.get().hash()\n",
    "    ctx.get().called_with(id, parent_id, fib, [n])\n",
    "\n",
    "    if n in memo:\n",
    "        ctx.get().cached_with(id, parent_id, memo[n])\n",
    "        return memo[n]\n",
    "\n",
    "    if n <= 1:\n",
    "        memo[n] = n\n",
    "        ctx.get().returned_with(id, parent_id, n)\n",
    "        return n\n",
    "\n",
    "    r1 = fib(n - 1, id)\n",
    "    r2 = fib(n - 2, id)\n",
    "    ctx.get().returned_with(id, parent_id, r1 + r2)\n",
    "    memo[n] = r1 + r2\n",
    "    return r1 + r2\n",
    "\n",
    "result, token = Stepper.run(fib, 8)\n",
    "assert result == 21\n",
    "\n",
    "tree = Tree.build(ctx.get().called_with_output_values)\n",
    "ctx.reset(token)\n",
    "tree.render(tree.root).to_image()"
   ]
  },
  {
   "cell_type": "markdown",
   "metadata": {},
   "source": [
    "# Grid Traveler\n",
    "\n",
    "## Without Dynamic Programming"
   ]
  },
  {
   "cell_type": "code",
   "execution_count": 4,
   "metadata": {},
   "outputs": [
    {
     "data": {
      "text/html": [
       "<img src=\"https://mermaid.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\"/>"
      ],
      "text/plain": [
       "<IPython.core.display.Image object>"
      ]
     },
     "metadata": {},
     "output_type": "display_data"
    }
   ],
   "source": [
    "def grid_traveler(m: int, n: int, parent_id: Optional[Hash] = None):\n",
    "    id = ctx.get().hash()\n",
    "    ctx.get().called_with(id, parent_id, grid_traveler, [m, n])\n",
    "\n",
    "    if m == 1 and n == 1:\n",
    "        ctx.get().returned_with(id, parent_id, 1)\n",
    "        return 1\n",
    "    \n",
    "    if m == 0 or n == 0:\n",
    "        ctx.get().returned_with(id, parent_id, 0)\n",
    "        return 0\n",
    "    \n",
    "    r1 = grid_traveler(m - 1, n, id)\n",
    "    r2 = grid_traveler(m, n - 1, id)\n",
    "    ctx.get().returned_with(id, parent_id, r1 + r2)\n",
    "    return r1 + r2\n",
    "\n",
    "result, token = Stepper.run(grid_traveler, 3, 3)\n",
    "assert result == 6\n",
    "\n",
    "tree = Tree.build(ctx.get().called_with_output_values)\n",
    "ctx.reset(token)\n",
    "tree.render(tree.root).to_image()"
   ]
  },
  {
   "cell_type": "markdown",
   "metadata": {},
   "source": [
    "## With Dynamic Programming"
   ]
  },
  {
   "cell_type": "code",
   "execution_count": 5,
   "metadata": {},
   "outputs": [
    {
     "data": {
      "text/html": [
       "<img src=\"https://mermaid.ink/img/CmZsb3djaGFydCBURApjbGFzc0RlZiBjYWNoZWQgZmlsbDojNGE4YmFkLGNvbG9yOiNmZmYKX1JPT1RbImdyaWRfdHJhdmVsZXIoMywzKSA9IDYiXTo6OnJldHVybgpfUk9PVFsiZ3JpZF90cmF2ZWxlcigzLDMpID0gNiJdOjo6cmV0dXJuIC0tPiBfUk9PVC1MMVsiZ3JpZF90cmF2ZWxlcigyLDMpID0gMyJdOjo6cmV0dXJuCl9ST09ULUwxWyJncmlkX3RyYXZlbGVyKDIsMykgPSAzIl06OjpyZXR1cm4gLS0+IF9ST09ULUwxLUwyWyJncmlkX3RyYXZlbGVyKDEsMykgPSAxIl06OjpyZXR1cm4KX1JPT1QtTDEtTDJbImdyaWRfdHJhdmVsZXIoMSwzKSA9IDEiXTo6OnJldHVybiAtLT4gX1JPT1QtTDEtTDItTDNbImdyaWRfdHJhdmVsZXIoMCwzKSA9IDAiXTo6OnJldHVybgpfUk9PVC1MMS1MMlsiZ3JpZF90cmF2ZWxlcigxLDMpID0gMSJdOjo6cmV0dXJuIC0tPiBfUk9PVC1MMS1MMi1SM1siZ3JpZF90cmF2ZWxlcigxLDIpID0gMSJdOjo6cmV0dXJuCl9ST09ULUwxLUwyLVIzWyJncmlkX3RyYXZlbGVyKDEsMikgPSAxIl06OjpyZXR1cm4gLS0+IF9ST09ULUwxLUwyLVIzLUw0WyJncmlkX3RyYXZlbGVyKDAsMikgPSAwIl06OjpyZXR1cm4KX1JPT1QtTDEtTDItUjNbImdyaWRfdHJhdmVsZXIoMSwyKSA9IDEiXTo6OnJldHVybiAtLT4gX1JPT1QtTDEtTDItUjMtUjRbImdyaWRfdHJhdmVsZXIoMSwxKSA9IDEiXTo6OnJldHVybgpfUk9PVC1MMVsiZ3JpZF90cmF2ZWxlcigyLDMpID0gMyJdOjo6cmV0dXJuIC0tPiBfUk9PVC1MMS1SMlsiZ3JpZF90cmF2ZWxlcigyLDIpID0gMiJdOjo6cmV0dXJuCl9ST09ULUwxLVIyWyJncmlkX3RyYXZlbGVyKDIsMikgPSAyIl06OjpyZXR1cm4gLS0+IF9ST09ULUwxLVIyLUwzWyJncmlkX3RyYXZlbGVyKDEsMikgPSAxIl06OjpjYWNoZWQKX1JPT1QtTDEtUjJbImdyaWRfdHJhdmVsZXIoMiwyKSA9IDIiXTo6OnJldHVybiAtLT4gX1JPT1QtTDEtUjItUjNbImdyaWRfdHJhdmVsZXIoMiwxKSA9IDEiXTo6OmNhY2hlZApfUk9PVFsiZ3JpZF90cmF2ZWxlcigzLDMpID0gNiJdOjo6cmV0dXJuIC0tPiBfUk9PVC1SMVsiZ3JpZF90cmF2ZWxlcigzLDIpID0gMyJdOjo6Y2FjaGVkCg==\"/>"
      ],
      "text/plain": [
       "<IPython.core.display.Image object>"
      ]
     },
     "metadata": {},
     "output_type": "display_data"
    }
   ],
   "source": [
    "memo: Dict[str, int] = {}\n",
    "\n",
    "def grid_traveler(m: int, n: int, parent_id: Optional[Hash] = None):\n",
    "    id = ctx.get().hash()\n",
    "    ctx.get().called_with(id, parent_id, grid_traveler, [m, n])\n",
    "\n",
    "    key = f\"{min(m, n)}-{max(m, n)}\"\n",
    "    if key in memo:\n",
    "        ctx.get().cached_with(id, parent_id, memo[key])\n",
    "        return memo[key]\n",
    "\n",
    "    if m == 1 and n == 1:\n",
    "        ctx.get().returned_with(id, parent_id, 1)\n",
    "        return 1\n",
    "    \n",
    "    if m == 0 or n == 0:\n",
    "        ctx.get().returned_with(id, parent_id, 0)\n",
    "        return 0\n",
    "    \n",
    "    r1 = grid_traveler(m - 1, n, id)\n",
    "    r2 = grid_traveler(m, n - 1, id)\n",
    "    memo[key] = r1 + r2\n",
    "    ctx.get().returned_with(id, parent_id, r1 + r2)\n",
    "    return memo[key]\n",
    "\n",
    "result, token = Stepper.run(grid_traveler, 3, 3)\n",
    "assert result == 6\n",
    "\n",
    "tree = Tree.build(ctx.get().called_with_output_values)\n",
    "ctx.reset(token)\n",
    "tree.render(tree.root).to_image()"
   ]
  },
  {
   "cell_type": "markdown",
   "metadata": {},
   "source": [
    "## Can Sum\n",
    "\n",
    "### Without Dynamic Programming"
   ]
  },
  {
   "cell_type": "code",
   "execution_count": 6,
   "metadata": {},
   "outputs": [
    {
     "data": {
      "text/html": [
       "<img src=\"https://mermaid.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\"/>"
      ],
      "text/plain": [
       "<IPython.core.display.Image object>"
      ]
     },
     "metadata": {},
     "output_type": "display_data"
    }
   ],
   "source": [
    "def can_sum(target: int, numbers: List[int], parent_id: Optional[Hash] = None) -> bool:\n",
    "    id = ctx.get().hash()\n",
    "    ctx.get().called_with(id, parent_id, can_sum, [target])\n",
    "\n",
    "    if target == 0:\n",
    "        ctx.get().returned_with(id, parent_id, True)\n",
    "        return True\n",
    "    \n",
    "    if target < 0:\n",
    "        ctx.get().returned_with(id, parent_id, False)\n",
    "        return False\n",
    "\n",
    "    for n in numbers:\n",
    "        if can_sum(target - n, numbers, id):\n",
    "            ctx.get().returned_with(id, parent_id, True)\n",
    "            return True\n",
    "\n",
    "    ctx.get().returned_with(id, parent_id, False)\n",
    "    return False\n",
    "\n",
    "result, token = Stepper.run(can_sum,  31, [7, 14])\n",
    "assert result is False\n",
    "\n",
    "tree = Tree.build(ctx.get().called_with_output_values)\n",
    "ctx.reset(token)\n",
    "tree.render(tree.root).to_image()"
   ]
  },
  {
   "cell_type": "markdown",
   "metadata": {},
   "source": [
    "## With Dynamic Programming"
   ]
  },
  {
   "cell_type": "code",
   "execution_count": 7,
   "metadata": {},
   "outputs": [
    {
     "data": {
      "text/html": [
       "<img src=\"https://mermaid.ink/img/CmZsb3djaGFydCBURApjbGFzc0RlZiBjYWNoZWQgZmlsbDojNGE4YmFkLGNvbG9yOiNmZmYKX1JPT1RbImNhbl9zdW0oMzEpID0gRmFsc2UiXTo6OnJldHVybgpfUk9PVFsiY2FuX3N1bSgzMSkgPSBGYWxzZSJdOjo6cmV0dXJuIC0tPiBfUk9PVC1MMVsiY2FuX3N1bSgyNCkgPSBGYWxzZSJdOjo6cmV0dXJuCl9ST09ULUwxWyJjYW5fc3VtKDI0KSA9IEZhbHNlIl06OjpyZXR1cm4gLS0+IF9ST09ULUwxLUwyWyJjYW5fc3VtKDE3KSA9IEZhbHNlIl06OjpyZXR1cm4KX1JPT1QtTDEtTDJbImNhbl9zdW0oMTcpID0gRmFsc2UiXTo6OnJldHVybiAtLT4gX1JPT1QtTDEtTDItTDNbImNhbl9zdW0oMTApID0gRmFsc2UiXTo6OnJldHVybgpfUk9PVC1MMS1MMi1MM1siY2FuX3N1bSgxMCkgPSBGYWxzZSJdOjo6cmV0dXJuIC0tPiBfUk9PVC1MMS1MMi1MMy1MNFsiY2FuX3N1bSgzKSA9IEZhbHNlIl06OjpyZXR1cm4KX1JPT1QtTDEtTDItTDMtTDRbImNhbl9zdW0oMykgPSBGYWxzZSJdOjo6cmV0dXJuIC0tPiBfUk9PVC1MMS1MMi1MMy1MNC1MNVsiY2FuX3N1bSgtNCkgPSBGYWxzZSJdOjo6cmV0dXJuCl9ST09ULUwxLUwyLUwzLUw0WyJjYW5fc3VtKDMpID0gRmFsc2UiXTo6OnJldHVybiAtLT4gX1JPT1QtTDEtTDItTDMtTDQtUjVbImNhbl9zdW0oLTExKSA9IEZhbHNlIl06OjpyZXR1cm4KX1JPT1QtTDEtTDItTDNbImNhbl9zdW0oMTApID0gRmFsc2UiXTo6OnJldHVybiAtLT4gX1JPT1QtTDEtTDItTDMtUjRbImNhbl9zdW0oLTQpID0gRmFsc2UiXTo6OnJldHVybgpfUk9PVC1MMS1MMlsiY2FuX3N1bSgxNykgPSBGYWxzZSJdOjo6cmV0dXJuIC0tPiBfUk9PVC1MMS1MMi1SM1siY2FuX3N1bSgzKSA9IEZhbHNlIl06OjpjYWNoZWQKX1JPT1QtTDFbImNhbl9zdW0oMjQpID0gRmFsc2UiXTo6OnJldHVybiAtLT4gX1JPT1QtTDEtUjJbImNhbl9zdW0oMTApID0gRmFsc2UiXTo6OmNhY2hlZApfUk9PVFsiY2FuX3N1bSgzMSkgPSBGYWxzZSJdOjo6cmV0dXJuIC0tPiBfUk9PVC1SMVsiY2FuX3N1bSgxNykgPSBGYWxzZSJdOjo6Y2FjaGVkCg==\"/>"
      ],
      "text/plain": [
       "<IPython.core.display.Image object>"
      ]
     },
     "metadata": {},
     "output_type": "display_data"
    }
   ],
   "source": [
    "memo: Dict[int, bool] = {}\n",
    "\n",
    "def can_sum(target: int, numbers: List[int], parent_id: Optional[Hash] = None) -> bool:\n",
    "    id = ctx.get().hash()\n",
    "    ctx.get().called_with(id, parent_id, can_sum, [target])\n",
    "\n",
    "    if target in memo:\n",
    "        ctx.get().cached_with(id, parent_id, memo[target])\n",
    "        return memo[target]\n",
    "\n",
    "    if target == 0:\n",
    "        ctx.get().returned_with(id, parent_id, True)\n",
    "        return True\n",
    "    \n",
    "    if target < 0:\n",
    "        ctx.get().returned_with(id, parent_id, False)\n",
    "        return False\n",
    "\n",
    "    for n in numbers:\n",
    "        memo[target] = can_sum(target - n, numbers, id)\n",
    "        if memo[target]:\n",
    "            ctx.get().returned_with(id, parent_id, True)\n",
    "            return True\n",
    "\n",
    "    ctx.get().returned_with(id, parent_id, False)\n",
    "    memo[target] = False\n",
    "    return False\n",
    "\n",
    "result, token = Stepper.run(can_sum, 31, [7, 14])\n",
    "assert result is False\n",
    "\n",
    "tree = Tree.build(ctx.get().called_with_output_values)\n",
    "ctx.reset(token)\n",
    "tree.render(tree.root).to_image()"
   ]
  },
  {
   "cell_type": "markdown",
   "metadata": {},
   "source": [
    "# Dynamic Programming"
   ]
  },
  {
   "cell_type": "markdown",
   "metadata": {},
   "source": [
    "## Rod Cutting\n",
    "\n",
    "- The recursive solution to Cut-Rod has a runtime of $\\Theta(2^n)$. The algorithm calls itself over and\n",
    "over again with the same parameters, resulting in the same subproblems being computed several\n",
    "timectx.\n",
    "- The dynamic programming solution for Cut-Rod runs in time $O(n^2)$ for a rod of length $n$. It\n",
    "uses $O(n)$ space to store the values to the subproblemctx."
   ]
  },
  {
   "cell_type": "code",
   "execution_count": 8,
   "metadata": {},
   "outputs": [
    {
     "data": {
      "text/markdown": [
       "\n",
       "### Steps\n",
       "#### Initialization\n",
       "\n",
       "| r                     | s                     |\n",
       "|-----------------------|-----------------------|\n",
       "| [0, 0, 0, 0, 0, 0, 0] | [1, 1, 1, 1, 1, 1, 1] |\n",
       "\n",
       "#### DP Fill\n",
       "\n",
       "|   j |   k | r                       | s                     |\n",
       "|-----|-----|-------------------------|-----------------------|\n",
       "|   1 |   1 | [0, 2, 0, 0, 0, 0, 0]   | [1, 1, 1, 1, 1, 1, 1] |\n",
       "|   2 |   1 | [0, 2, 4, 0, 0, 0, 0]   | [1, 1, 1, 1, 1, 1, 1] |\n",
       "|   3 |   1 | [0, 2, 4, 6, 0, 0, 0]   | [1, 1, 1, 1, 1, 1, 1] |\n",
       "|   3 |   3 | [0, 2, 4, 7, 0, 0, 0]   | [1, 1, 1, 3, 1, 1, 1] |\n",
       "|   4 |   1 | [0, 2, 4, 7, 9, 0, 0]   | [1, 1, 1, 3, 1, 1, 1] |\n",
       "|   5 |   1 | [0, 2, 4, 7, 9, 11, 0]  | [1, 1, 1, 3, 1, 1, 1] |\n",
       "|   6 |   1 | [0, 2, 4, 7, 9, 11, 13] | [1, 1, 1, 3, 1, 1, 1] |\n",
       "|   6 |   3 | [0, 2, 4, 7, 9, 11, 14] | [1, 1, 1, 3, 1, 1, 3] |\n",
       "\n",
       "#### Reconstruction\n",
       "\n",
       "| cuts   |   j |\n",
       "|--------|-----|\n",
       "| [3]    |   3 |\n",
       "| [3, 3] |   0 |\n"
      ],
      "text/plain": [
       "<IPython.core.display.Markdown object>"
      ]
     },
     "metadata": {},
     "output_type": "display_data"
    }
   ],
   "source": [
    "from src.dp.record import DpList\n",
    "from IPython.display import display, Markdown\n",
    "\n",
    "def dynamic_cut_rod(n: int, p: List[int]):\n",
    "    assert len(p) >= n + 1\n",
    "\n",
    "    r = DpList([0] * (n+1))\n",
    "    s = [1] * (n+1)\n",
    "\n",
    "    r.start(\"initialization\",r=r[:], s=s[:]).stop()\n",
    "\n",
    "    for j in range(1, n + 1):\n",
    "        for k in range(1, j + 1):\n",
    "            if p[k] + r[j-k] > r[j]:\n",
    "                r[j] = p[k] + r[j-k]\n",
    "                s[j] = k\n",
    "                r.start(\"dp_fill\", j=j, k=k, r=r[:], s=s[:]).stop()\n",
    "    j = n\n",
    "    cuts = []\n",
    "    while j > 0:\n",
    "        cuts.append(s[j])\n",
    "        j -= s[j]\n",
    "        r.start(\"reconstruction\", cuts=cuts[:], j=j).stop()\n",
    "\n",
    "    return r[n], cuts, r\n",
    "\n",
    "# Have to add a 0 at the beginning\n",
    "prices = [0,2,2,7,9,7,2]\n",
    "\n",
    "value, cuts, dp = dynamic_cut_rod(6, prices)\n",
    "# assert value == 10 and cuts == [2, 2]\n",
    "# assert dynamic_cut_rod(3, prices)[0] == 7\n",
    "# assert dynamic_cut_rod(2, prices)[0] == 5\n",
    "# assert dynamic_cut_rod(1, prices)[0] == 2\n",
    "# assert dynamic_cut_rod(0, prices)[0] == 0\n",
    "\n",
    "\n",
    "display(Markdown(f\"\"\"\n",
    "### Steps\n",
    "#### Initialization\n",
    "\n",
    "{dp.to_markdown(\"initialization\")}\n",
    "\n",
    "#### DP Fill\n",
    "\n",
    "{dp.to_markdown(\"dp_fill\")}\n",
    "\n",
    "#### Reconstruction\n",
    "\n",
    "{dp.to_markdown(\"reconstruction\")}\n",
    "\"\"\"))"
   ]
  },
  {
   "cell_type": "markdown",
   "metadata": {},
   "source": [
    "## Longest palindromic substring\n",
    "\n",
    "This algorithm carries out a constant number of operations per cell of the table. Since there\n",
    "are $\\Theta(n^2)$ entries in the table, the algorithm runs in time $\\Theta(n^2)$. This is a substantial improvement of the\n",
    "$\\Theta(n^3)$ brute-force algorithm."
   ]
  },
  {
   "cell_type": "code",
   "execution_count": 9,
   "metadata": {},
   "outputs": [
    {
     "data": {
      "text/markdown": [
       "\n",
       "### Steps\n",
       "#### Initialization\n",
       "\n",
       "| dp                                                                                                                                                                                                                                                                                                                                                                                                                                                                                                                                                                                                                                            |   max_length |\n",
       "|-----------------------------------------------------------------------------------------------------------------------------------------------------------------------------------------------------------------------------------------------------------------------------------------------------------------------------------------------------------------------------------------------------------------------------------------------------------------------------------------------------------------------------------------------------------------------------------------------------------------------------------------------|--------------|\n",
       "| $$\\begin{array}{rrrrrrrrr} \\hline    0 &   1 &   2 &   3 &   4 &   5 &   6 &   7 &   8 \\\\ \\hline    1 &   0 &   0 &   0 &   0 &   0 &   0 &   0 &   0 \\\\    0 &   1 &   0 &   0 &   0 &   0 &   0 &   0 &   0 \\\\    0 &   0 &   1 &   0 &   0 &   0 &   0 &   0 &   0 \\\\    0 &   0 &   0 &   1 &   0 &   0 &   0 &   0 &   0 \\\\    0 &   0 &   0 &   0 &   1 &   0 &   0 &   0 &   0 \\\\    0 &   0 &   0 &   0 &   0 &   1 &   0 &   0 &   0 \\\\    0 &   0 &   0 &   0 &   0 &   0 &   1 &   0 &   0 \\\\    0 &   0 &   0 &   0 &   0 &   0 &   0 &   1 &   0 \\\\    0 &   0 &   0 &   0 &   0 &   0 &   0 &   0 &   1 \\\\ \\hline \\end{array}$$ |            1 |\n",
       "\n",
       "#### Fill Same Characters Next to Each Other\n",
       "\n",
       "|   i | dp                                                                                                                                                                                                                                                                                                                                                                                                                                                                                                                                                                                                                                            |   max_length |\n",
       "|-----|-----------------------------------------------------------------------------------------------------------------------------------------------------------------------------------------------------------------------------------------------------------------------------------------------------------------------------------------------------------------------------------------------------------------------------------------------------------------------------------------------------------------------------------------------------------------------------------------------------------------------------------------------|--------------|\n",
       "|   0 | $$\\begin{array}{rrrrrrrrr} \\hline    0 &   1 &   2 &   3 &   4 &   5 &   6 &   7 &   8 \\\\ \\hline    1 &   1 &   0 &   0 &   0 &   0 &   0 &   0 &   0 \\\\    0 &   1 &   0 &   0 &   0 &   0 &   0 &   0 &   0 \\\\    0 &   0 &   1 &   0 &   0 &   0 &   0 &   0 &   0 \\\\    0 &   0 &   0 &   1 &   0 &   0 &   0 &   0 &   0 \\\\    0 &   0 &   0 &   0 &   1 &   0 &   0 &   0 &   0 \\\\    0 &   0 &   0 &   0 &   0 &   1 &   0 &   0 &   0 \\\\    0 &   0 &   0 &   0 &   0 &   0 &   1 &   0 &   0 \\\\    0 &   0 &   0 &   0 &   0 &   0 &   0 &   1 &   0 \\\\    0 &   0 &   0 &   0 &   0 &   0 &   0 &   0 &   1 \\\\ \\hline \\end{array}$$ |            2 |\n",
       "|   1 | $$\\begin{array}{rrrrrrrrr} \\hline    0 &   1 &   2 &   3 &   4 &   5 &   6 &   7 &   8 \\\\ \\hline    1 &   1 &   0 &   0 &   0 &   0 &   0 &   0 &   0 \\\\    0 &   1 &   1 &   0 &   0 &   0 &   0 &   0 &   0 \\\\    0 &   0 &   1 &   0 &   0 &   0 &   0 &   0 &   0 \\\\    0 &   0 &   0 &   1 &   0 &   0 &   0 &   0 &   0 \\\\    0 &   0 &   0 &   0 &   1 &   0 &   0 &   0 &   0 \\\\    0 &   0 &   0 &   0 &   0 &   1 &   0 &   0 &   0 \\\\    0 &   0 &   0 &   0 &   0 &   0 &   1 &   0 &   0 \\\\    0 &   0 &   0 &   0 &   0 &   0 &   0 &   1 &   0 \\\\    0 &   0 &   0 &   0 &   0 &   0 &   0 &   0 &   1 \\\\ \\hline \\end{array}$$ |            2 |\n",
       "|   2 | $$\\begin{array}{rrrrrrrrr} \\hline    0 &   1 &   2 &   3 &   4 &   5 &   6 &   7 &   8 \\\\ \\hline    1 &   1 &   0 &   0 &   0 &   0 &   0 &   0 &   0 \\\\    0 &   1 &   1 &   0 &   0 &   0 &   0 &   0 &   0 \\\\    0 &   0 &   1 &   1 &   0 &   0 &   0 &   0 &   0 \\\\    0 &   0 &   0 &   1 &   0 &   0 &   0 &   0 &   0 \\\\    0 &   0 &   0 &   0 &   1 &   0 &   0 &   0 &   0 \\\\    0 &   0 &   0 &   0 &   0 &   1 &   0 &   0 &   0 \\\\    0 &   0 &   0 &   0 &   0 &   0 &   1 &   0 &   0 \\\\    0 &   0 &   0 &   0 &   0 &   0 &   0 &   1 &   0 \\\\    0 &   0 &   0 &   0 &   0 &   0 &   0 &   0 &   1 \\\\ \\hline \\end{array}$$ |            2 |\n",
       "|   3 | $$\\begin{array}{rrrrrrrrr} \\hline    0 &   1 &   2 &   3 &   4 &   5 &   6 &   7 &   8 \\\\ \\hline    1 &   1 &   0 &   0 &   0 &   0 &   0 &   0 &   0 \\\\    0 &   1 &   1 &   0 &   0 &   0 &   0 &   0 &   0 \\\\    0 &   0 &   1 &   1 &   0 &   0 &   0 &   0 &   0 \\\\    0 &   0 &   0 &   1 &   1 &   0 &   0 &   0 &   0 \\\\    0 &   0 &   0 &   0 &   1 &   0 &   0 &   0 &   0 \\\\    0 &   0 &   0 &   0 &   0 &   1 &   0 &   0 &   0 \\\\    0 &   0 &   0 &   0 &   0 &   0 &   1 &   0 &   0 \\\\    0 &   0 &   0 &   0 &   0 &   0 &   0 &   1 &   0 \\\\    0 &   0 &   0 &   0 &   0 &   0 &   0 &   0 &   1 \\\\ \\hline \\end{array}$$ |            2 |\n",
       "|   6 | $$\\begin{array}{rrrrrrrrr} \\hline    0 &   1 &   2 &   3 &   4 &   5 &   6 &   7 &   8 \\\\ \\hline    1 &   1 &   0 &   0 &   0 &   0 &   0 &   0 &   0 \\\\    0 &   1 &   1 &   0 &   0 &   0 &   0 &   0 &   0 \\\\    0 &   0 &   1 &   1 &   0 &   0 &   0 &   0 &   0 \\\\    0 &   0 &   0 &   1 &   1 &   0 &   0 &   0 &   0 \\\\    0 &   0 &   0 &   0 &   1 &   0 &   0 &   0 &   0 \\\\    0 &   0 &   0 &   0 &   0 &   1 &   0 &   0 &   0 \\\\    0 &   0 &   0 &   0 &   0 &   0 &   1 &   1 &   0 \\\\    0 &   0 &   0 &   0 &   0 &   0 &   0 &   1 &   0 \\\\    0 &   0 &   0 &   0 &   0 &   0 &   0 &   0 &   1 \\\\ \\hline \\end{array}$$ |            2 |\n",
       "\n",
       "#### Final Fill\n",
       "\n",
       "|   k |   i |   j | s_i   | s_j   | dp                                                                                                                                                                                                                                                                                                                                                                                                                                                                                                                                                                                                                                            |   max_length |\n",
       "|-----|-----|-----|-------|-------|-----------------------------------------------------------------------------------------------------------------------------------------------------------------------------------------------------------------------------------------------------------------------------------------------------------------------------------------------------------------------------------------------------------------------------------------------------------------------------------------------------------------------------------------------------------------------------------------------------------------------------------------------|--------------|\n",
       "|   3 |   0 |   2 | c     | c     | $$\\begin{array}{rrrrrrrrr} \\hline    0 &   1 &   2 &   3 &   4 &   5 &   6 &   7 &   8 \\\\ \\hline    1 &   1 &   1 &   0 &   0 &   0 &   0 &   0 &   0 \\\\    0 &   1 &   1 &   0 &   0 &   0 &   0 &   0 &   0 \\\\    0 &   0 &   1 &   1 &   0 &   0 &   0 &   0 &   0 \\\\    0 &   0 &   0 &   1 &   1 &   0 &   0 &   0 &   0 \\\\    0 &   0 &   0 &   0 &   1 &   0 &   0 &   0 &   0 \\\\    0 &   0 &   0 &   0 &   0 &   1 &   0 &   0 &   0 \\\\    0 &   0 &   0 &   0 &   0 &   0 &   1 &   1 &   0 \\\\    0 &   0 &   0 &   0 &   0 &   0 &   0 &   1 &   0 \\\\    0 &   0 &   0 &   0 &   0 &   0 &   0 &   0 &   1 \\\\ \\hline \\end{array}$$ |            3 |\n",
       "|   3 |   1 |   3 | c     | c     | $$\\begin{array}{rrrrrrrrr} \\hline    0 &   1 &   2 &   3 &   4 &   5 &   6 &   7 &   8 \\\\ \\hline    1 &   1 &   1 &   0 &   0 &   0 &   0 &   0 &   0 \\\\    0 &   1 &   1 &   1 &   0 &   0 &   0 &   0 &   0 \\\\    0 &   0 &   1 &   1 &   0 &   0 &   0 &   0 &   0 \\\\    0 &   0 &   0 &   1 &   1 &   0 &   0 &   0 &   0 \\\\    0 &   0 &   0 &   0 &   1 &   0 &   0 &   0 &   0 \\\\    0 &   0 &   0 &   0 &   0 &   1 &   0 &   0 &   0 \\\\    0 &   0 &   0 &   0 &   0 &   0 &   1 &   1 &   0 \\\\    0 &   0 &   0 &   0 &   0 &   0 &   0 &   1 &   0 \\\\    0 &   0 &   0 &   0 &   0 &   0 &   0 &   0 &   1 \\\\ \\hline \\end{array}$$ |            3 |\n",
       "|   3 |   2 |   4 | c     | c     | $$\\begin{array}{rrrrrrrrr} \\hline    0 &   1 &   2 &   3 &   4 &   5 &   6 &   7 &   8 \\\\ \\hline    1 &   1 &   1 &   0 &   0 &   0 &   0 &   0 &   0 \\\\    0 &   1 &   1 &   1 &   0 &   0 &   0 &   0 &   0 \\\\    0 &   0 &   1 &   1 &   1 &   0 &   0 &   0 &   0 \\\\    0 &   0 &   0 &   1 &   1 &   0 &   0 &   0 &   0 \\\\    0 &   0 &   0 &   0 &   1 &   0 &   0 &   0 &   0 \\\\    0 &   0 &   0 &   0 &   0 &   1 &   0 &   0 &   0 \\\\    0 &   0 &   0 &   0 &   0 &   0 &   1 &   1 &   0 \\\\    0 &   0 &   0 &   0 &   0 &   0 &   0 &   1 &   0 \\\\    0 &   0 &   0 &   0 &   0 &   0 &   0 &   0 &   1 \\\\ \\hline \\end{array}$$ |            3 |\n",
       "|   4 |   0 |   3 | c     | c     | $$\\begin{array}{rrrrrrrrr} \\hline    0 &   1 &   2 &   3 &   4 &   5 &   6 &   7 &   8 \\\\ \\hline    1 &   1 &   1 &   1 &   0 &   0 &   0 &   0 &   0 \\\\    0 &   1 &   1 &   1 &   0 &   0 &   0 &   0 &   0 \\\\    0 &   0 &   1 &   1 &   1 &   0 &   0 &   0 &   0 \\\\    0 &   0 &   0 &   1 &   1 &   0 &   0 &   0 &   0 \\\\    0 &   0 &   0 &   0 &   1 &   0 &   0 &   0 &   0 \\\\    0 &   0 &   0 &   0 &   0 &   1 &   0 &   0 &   0 \\\\    0 &   0 &   0 &   0 &   0 &   0 &   1 &   1 &   0 \\\\    0 &   0 &   0 &   0 &   0 &   0 &   0 &   1 &   0 \\\\    0 &   0 &   0 &   0 &   0 &   0 &   0 &   0 &   1 \\\\ \\hline \\end{array}$$ |            4 |\n",
       "|   4 |   1 |   4 | c     | c     | $$\\begin{array}{rrrrrrrrr} \\hline    0 &   1 &   2 &   3 &   4 &   5 &   6 &   7 &   8 \\\\ \\hline    1 &   1 &   1 &   1 &   0 &   0 &   0 &   0 &   0 \\\\    0 &   1 &   1 &   1 &   1 &   0 &   0 &   0 &   0 \\\\    0 &   0 &   1 &   1 &   1 &   0 &   0 &   0 &   0 \\\\    0 &   0 &   0 &   1 &   1 &   0 &   0 &   0 &   0 \\\\    0 &   0 &   0 &   0 &   1 &   0 &   0 &   0 &   0 \\\\    0 &   0 &   0 &   0 &   0 &   1 &   0 &   0 &   0 \\\\    0 &   0 &   0 &   0 &   0 &   0 &   1 &   1 &   0 \\\\    0 &   0 &   0 &   0 &   0 &   0 &   0 &   1 &   0 \\\\    0 &   0 &   0 &   0 &   0 &   0 &   0 &   0 &   1 \\\\ \\hline \\end{array}$$ |            4 |\n",
       "|   4 |   5 |   8 | a     | a     | $$\\begin{array}{rrrrrrrrr} \\hline    0 &   1 &   2 &   3 &   4 &   5 &   6 &   7 &   8 \\\\ \\hline    1 &   1 &   1 &   1 &   0 &   0 &   0 &   0 &   0 \\\\    0 &   1 &   1 &   1 &   1 &   0 &   0 &   0 &   0 \\\\    0 &   0 &   1 &   1 &   1 &   0 &   0 &   0 &   0 \\\\    0 &   0 &   0 &   1 &   1 &   0 &   0 &   0 &   0 \\\\    0 &   0 &   0 &   0 &   1 &   0 &   0 &   0 &   0 \\\\    0 &   0 &   0 &   0 &   0 &   1 &   0 &   0 &   1 \\\\    0 &   0 &   0 &   0 &   0 &   0 &   1 &   1 &   0 \\\\    0 &   0 &   0 &   0 &   0 &   0 &   0 &   1 &   0 \\\\    0 &   0 &   0 &   0 &   0 &   0 &   0 &   0 &   1 \\\\ \\hline \\end{array}$$ |            4 |\n",
       "|   5 |   0 |   4 | c     | c     | $$\\begin{array}{rrrrrrrrr} \\hline    0 &   1 &   2 &   3 &   4 &   5 &   6 &   7 &   8 \\\\ \\hline    1 &   1 &   1 &   1 &   1 &   0 &   0 &   0 &   0 \\\\    0 &   1 &   1 &   1 &   1 &   0 &   0 &   0 &   0 \\\\    0 &   0 &   1 &   1 &   1 &   0 &   0 &   0 &   0 \\\\    0 &   0 &   0 &   1 &   1 &   0 &   0 &   0 &   0 \\\\    0 &   0 &   0 &   0 &   1 &   0 &   0 &   0 &   0 \\\\    0 &   0 &   0 &   0 &   0 &   1 &   0 &   0 &   1 \\\\    0 &   0 &   0 &   0 &   0 &   0 &   1 &   1 &   0 \\\\    0 &   0 &   0 &   0 &   0 &   0 &   0 &   1 &   0 \\\\    0 &   0 &   0 &   0 &   0 &   0 &   0 &   0 &   1 \\\\ \\hline \\end{array}$$ |            5 |\n"
      ],
      "text/plain": [
       "<IPython.core.display.Markdown object>"
      ]
     },
     "metadata": {},
     "output_type": "display_data"
    }
   ],
   "source": [
    "from src.dp.record import DpList\n",
    "from IPython.display import display, Markdown\n",
    "\n",
    "def longest_palindrome_substring(s: str):\n",
    "    n = len(s)\n",
    "    max_str = s\n",
    "\n",
    "    if n <= 1:\n",
    "        return s\n",
    "\n",
    "    dp = DpList([[False] * n for _ in range(n)])\n",
    "    max_length = 1\n",
    "\n",
    "    for i in range(n):\n",
    "        dp[i][i] = True\n",
    "\n",
    "    dp.start(\"initialization\", dp=dp.deepcopy(), max_length=max_length).stop()\n",
    "\n",
    "    for i in range(n-1):\n",
    "        if s[i] == s[i+1]:\n",
    "            dp[i][i+1] = True\n",
    "            max_length = 2\n",
    "            max_str = s[i:i+2]\n",
    "            dp.start(\"dp_fill_1\", i=i, dp=dp.deepcopy(), max_length=max_length).stop()\n",
    "\n",
    "    for k in range(3, n + 1):\n",
    "        for i in range(n - k + 1):\n",
    "            j = i + k - 1\n",
    "            if dp[i+1][j-1] and s[i] == s[j]:\n",
    "                dp[i][j] = True\n",
    "                max_length = k\n",
    "                max_str = s[i:j+1]\n",
    "                dp.start(\"dp_fill_2\", k=k, i=i, j=j, s_i=s[i], s_j=s[j], dp=dp.deepcopy(), max_length=max_length).stop()\n",
    "\n",
    "    return max_length, max_str, dp\n",
    "\n",
    "assert longest_palindrome_substring(\"dabzbae\")[0] == 5\n",
    "assert longest_palindrome_substring(\"dabzzbae\")[0] == 6\n",
    "assert longest_palindrome_substring(\"dabzqbae\")[0] == 1\n",
    "assert longest_palindrome_substring(\"dd\")[0] == 2\n",
    "\n",
    "max_length, word, dp = longest_palindrome_substring(\"cccccabba\")\n",
    "\n",
    "display(Markdown(f\"\"\"\n",
    "### Steps\n",
    "#### Initialization\n",
    "\n",
    "{dp.to_markdown(\"initialization\")}\n",
    "\n",
    "#### Fill Same Characters Next to Each Other\n",
    "\n",
    "{dp.to_markdown(\"dp_fill_1\")}\n",
    "\n",
    "#### Final Fill\n",
    "\n",
    "{dp.to_markdown(\"dp_fill_2\")}\n",
    "\"\"\"))"
   ]
  },
  {
   "cell_type": "markdown",
   "metadata": {},
   "source": [
    "## Longest Palindromic Subsequence\n",
    "\n",
    "This algorithm carries out a constant number of operations per cell of the table. Since there\n",
    "are $Θ(n^2)$ entries in the table, the algorithm runs in time $Θ(n^2)$. This is a substantial improvement of the\n",
    "$Θ(2^n)$ brute-force algorithm."
   ]
  },
  {
   "cell_type": "code",
   "execution_count": 10,
   "metadata": {},
   "outputs": [
    {
     "data": {
      "text/markdown": [
       "\n",
       "### Steps\n",
       "#### Initialization\n",
       "\n",
       "| dp                                                                                                                                                                                                                                                                                                                                                                                                                                                                                                                                                                                                                                            |\n",
       "|-----------------------------------------------------------------------------------------------------------------------------------------------------------------------------------------------------------------------------------------------------------------------------------------------------------------------------------------------------------------------------------------------------------------------------------------------------------------------------------------------------------------------------------------------------------------------------------------------------------------------------------------------|\n",
       "| $$\\begin{array}{rrrrrrrrr} \\hline    0 &   1 &   2 &   3 &   4 &   5 &   6 &   7 &   8 \\\\ \\hline    1 &   0 &   0 &   0 &   0 &   0 &   0 &   0 &   0 \\\\    0 &   1 &   0 &   0 &   0 &   0 &   0 &   0 &   0 \\\\    0 &   0 &   1 &   0 &   0 &   0 &   0 &   0 &   0 \\\\    0 &   0 &   0 &   1 &   0 &   0 &   0 &   0 &   0 \\\\    0 &   0 &   0 &   0 &   1 &   0 &   0 &   0 &   0 \\\\    0 &   0 &   0 &   0 &   0 &   1 &   0 &   0 &   0 \\\\    0 &   0 &   0 &   0 &   0 &   0 &   1 &   0 &   0 \\\\    0 &   0 &   0 &   0 &   0 &   0 &   0 &   1 &   0 \\\\    0 &   0 &   0 &   0 &   0 &   0 &   0 &   0 &   1 \\\\ \\hline \\end{array}$$ |\n",
       "\n",
       "#### Fill Same Characters Next to Each Other\n",
       "\n",
       "|   i | dp                                                                                                                                                                                                                                                                                                                                                                                                                                                                                                                                                                                                                                            |\n",
       "|-----|-----------------------------------------------------------------------------------------------------------------------------------------------------------------------------------------------------------------------------------------------------------------------------------------------------------------------------------------------------------------------------------------------------------------------------------------------------------------------------------------------------------------------------------------------------------------------------------------------------------------------------------------------|\n",
       "|   0 | $$\\begin{array}{rrrrrrrrr} \\hline    0 &   1 &   2 &   3 &   4 &   5 &   6 &   7 &   8 \\\\ \\hline    1 &   2 &   0 &   0 &   0 &   0 &   0 &   0 &   0 \\\\    0 &   1 &   0 &   0 &   0 &   0 &   0 &   0 &   0 \\\\    0 &   0 &   1 &   0 &   0 &   0 &   0 &   0 &   0 \\\\    0 &   0 &   0 &   1 &   0 &   0 &   0 &   0 &   0 \\\\    0 &   0 &   0 &   0 &   1 &   0 &   0 &   0 &   0 \\\\    0 &   0 &   0 &   0 &   0 &   1 &   0 &   0 &   0 \\\\    0 &   0 &   0 &   0 &   0 &   0 &   1 &   0 &   0 \\\\    0 &   0 &   0 &   0 &   0 &   0 &   0 &   1 &   0 \\\\    0 &   0 &   0 &   0 &   0 &   0 &   0 &   0 &   1 \\\\ \\hline \\end{array}$$ |\n",
       "|   1 | $$\\begin{array}{rrrrrrrrr} \\hline    0 &   1 &   2 &   3 &   4 &   5 &   6 &   7 &   8 \\\\ \\hline    1 &   2 &   0 &   0 &   0 &   0 &   0 &   0 &   0 \\\\    0 &   1 &   2 &   0 &   0 &   0 &   0 &   0 &   0 \\\\    0 &   0 &   1 &   0 &   0 &   0 &   0 &   0 &   0 \\\\    0 &   0 &   0 &   1 &   0 &   0 &   0 &   0 &   0 \\\\    0 &   0 &   0 &   0 &   1 &   0 &   0 &   0 &   0 \\\\    0 &   0 &   0 &   0 &   0 &   1 &   0 &   0 &   0 \\\\    0 &   0 &   0 &   0 &   0 &   0 &   1 &   0 &   0 \\\\    0 &   0 &   0 &   0 &   0 &   0 &   0 &   1 &   0 \\\\    0 &   0 &   0 &   0 &   0 &   0 &   0 &   0 &   1 \\\\ \\hline \\end{array}$$ |\n",
       "|   2 | $$\\begin{array}{rrrrrrrrr} \\hline    0 &   1 &   2 &   3 &   4 &   5 &   6 &   7 &   8 \\\\ \\hline    1 &   2 &   0 &   0 &   0 &   0 &   0 &   0 &   0 \\\\    0 &   1 &   2 &   0 &   0 &   0 &   0 &   0 &   0 \\\\    0 &   0 &   1 &   2 &   0 &   0 &   0 &   0 &   0 \\\\    0 &   0 &   0 &   1 &   0 &   0 &   0 &   0 &   0 \\\\    0 &   0 &   0 &   0 &   1 &   0 &   0 &   0 &   0 \\\\    0 &   0 &   0 &   0 &   0 &   1 &   0 &   0 &   0 \\\\    0 &   0 &   0 &   0 &   0 &   0 &   1 &   0 &   0 \\\\    0 &   0 &   0 &   0 &   0 &   0 &   0 &   1 &   0 \\\\    0 &   0 &   0 &   0 &   0 &   0 &   0 &   0 &   1 \\\\ \\hline \\end{array}$$ |\n",
       "|   3 | $$\\begin{array}{rrrrrrrrr} \\hline    0 &   1 &   2 &   3 &   4 &   5 &   6 &   7 &   8 \\\\ \\hline    1 &   2 &   0 &   0 &   0 &   0 &   0 &   0 &   0 \\\\    0 &   1 &   2 &   0 &   0 &   0 &   0 &   0 &   0 \\\\    0 &   0 &   1 &   2 &   0 &   0 &   0 &   0 &   0 \\\\    0 &   0 &   0 &   1 &   2 &   0 &   0 &   0 &   0 \\\\    0 &   0 &   0 &   0 &   1 &   0 &   0 &   0 &   0 \\\\    0 &   0 &   0 &   0 &   0 &   1 &   0 &   0 &   0 \\\\    0 &   0 &   0 &   0 &   0 &   0 &   1 &   0 &   0 \\\\    0 &   0 &   0 &   0 &   0 &   0 &   0 &   1 &   0 \\\\    0 &   0 &   0 &   0 &   0 &   0 &   0 &   0 &   1 \\\\ \\hline \\end{array}$$ |\n",
       "|   4 | $$\\begin{array}{rrrrrrrrr} \\hline    0 &   1 &   2 &   3 &   4 &   5 &   6 &   7 &   8 \\\\ \\hline    1 &   2 &   0 &   0 &   0 &   0 &   0 &   0 &   0 \\\\    0 &   1 &   2 &   0 &   0 &   0 &   0 &   0 &   0 \\\\    0 &   0 &   1 &   2 &   0 &   0 &   0 &   0 &   0 \\\\    0 &   0 &   0 &   1 &   2 &   0 &   0 &   0 &   0 \\\\    0 &   0 &   0 &   0 &   1 &   1 &   0 &   0 &   0 \\\\    0 &   0 &   0 &   0 &   0 &   1 &   0 &   0 &   0 \\\\    0 &   0 &   0 &   0 &   0 &   0 &   1 &   0 &   0 \\\\    0 &   0 &   0 &   0 &   0 &   0 &   0 &   1 &   0 \\\\    0 &   0 &   0 &   0 &   0 &   0 &   0 &   0 &   1 \\\\ \\hline \\end{array}$$ |\n",
       "|   5 | $$\\begin{array}{rrrrrrrrr} \\hline    0 &   1 &   2 &   3 &   4 &   5 &   6 &   7 &   8 \\\\ \\hline    1 &   2 &   0 &   0 &   0 &   0 &   0 &   0 &   0 \\\\    0 &   1 &   2 &   0 &   0 &   0 &   0 &   0 &   0 \\\\    0 &   0 &   1 &   2 &   0 &   0 &   0 &   0 &   0 \\\\    0 &   0 &   0 &   1 &   2 &   0 &   0 &   0 &   0 \\\\    0 &   0 &   0 &   0 &   1 &   1 &   0 &   0 &   0 \\\\    0 &   0 &   0 &   0 &   0 &   1 &   1 &   0 &   0 \\\\    0 &   0 &   0 &   0 &   0 &   0 &   1 &   0 &   0 \\\\    0 &   0 &   0 &   0 &   0 &   0 &   0 &   1 &   0 \\\\    0 &   0 &   0 &   0 &   0 &   0 &   0 &   0 &   1 \\\\ \\hline \\end{array}$$ |\n",
       "|   6 | $$\\begin{array}{rrrrrrrrr} \\hline    0 &   1 &   2 &   3 &   4 &   5 &   6 &   7 &   8 \\\\ \\hline    1 &   2 &   0 &   0 &   0 &   0 &   0 &   0 &   0 \\\\    0 &   1 &   2 &   0 &   0 &   0 &   0 &   0 &   0 \\\\    0 &   0 &   1 &   2 &   0 &   0 &   0 &   0 &   0 \\\\    0 &   0 &   0 &   1 &   2 &   0 &   0 &   0 &   0 \\\\    0 &   0 &   0 &   0 &   1 &   1 &   0 &   0 &   0 \\\\    0 &   0 &   0 &   0 &   0 &   1 &   1 &   0 &   0 \\\\    0 &   0 &   0 &   0 &   0 &   0 &   1 &   2 &   0 \\\\    0 &   0 &   0 &   0 &   0 &   0 &   0 &   1 &   0 \\\\    0 &   0 &   0 &   0 &   0 &   0 &   0 &   0 &   1 \\\\ \\hline \\end{array}$$ |\n",
       "|   7 | $$\\begin{array}{rrrrrrrrr} \\hline    0 &   1 &   2 &   3 &   4 &   5 &   6 &   7 &   8 \\\\ \\hline    1 &   2 &   0 &   0 &   0 &   0 &   0 &   0 &   0 \\\\    0 &   1 &   2 &   0 &   0 &   0 &   0 &   0 &   0 \\\\    0 &   0 &   1 &   2 &   0 &   0 &   0 &   0 &   0 \\\\    0 &   0 &   0 &   1 &   2 &   0 &   0 &   0 &   0 \\\\    0 &   0 &   0 &   0 &   1 &   1 &   0 &   0 &   0 \\\\    0 &   0 &   0 &   0 &   0 &   1 &   1 &   0 &   0 \\\\    0 &   0 &   0 &   0 &   0 &   0 &   1 &   2 &   0 \\\\    0 &   0 &   0 &   0 &   0 &   0 &   0 &   1 &   1 \\\\    0 &   0 &   0 &   0 &   0 &   0 &   0 &   0 &   1 \\\\ \\hline \\end{array}$$ |\n",
       "\n",
       "#### Final Fill\n",
       "\n",
       "|   k |   i |   j | s_i   | s_j   | dp                                                                                                                                                                                                                                                                                                                                                                                                                                                                                                                                                                                                                                            |\n",
       "|-----|-----|-----|-------|-------|-----------------------------------------------------------------------------------------------------------------------------------------------------------------------------------------------------------------------------------------------------------------------------------------------------------------------------------------------------------------------------------------------------------------------------------------------------------------------------------------------------------------------------------------------------------------------------------------------------------------------------------------------|\n",
       "|   3 |   0 |   2 | c     | c     | $$\\begin{array}{rrrrrrrrr} \\hline    0 &   1 &   2 &   3 &   4 &   5 &   6 &   7 &   8 \\\\ \\hline    1 &   2 &   3 &   0 &   0 &   0 &   0 &   0 &   0 \\\\    0 &   1 &   2 &   0 &   0 &   0 &   0 &   0 &   0 \\\\    0 &   0 &   1 &   2 &   0 &   0 &   0 &   0 &   0 \\\\    0 &   0 &   0 &   1 &   2 &   0 &   0 &   0 &   0 \\\\    0 &   0 &   0 &   0 &   1 &   1 &   0 &   0 &   0 \\\\    0 &   0 &   0 &   0 &   0 &   1 &   1 &   0 &   0 \\\\    0 &   0 &   0 &   0 &   0 &   0 &   1 &   2 &   0 \\\\    0 &   0 &   0 &   0 &   0 &   0 &   0 &   1 &   1 \\\\    0 &   0 &   0 &   0 &   0 &   0 &   0 &   0 &   1 \\\\ \\hline \\end{array}$$ |\n",
       "|   3 |   1 |   3 | c     | c     | $$\\begin{array}{rrrrrrrrr} \\hline    0 &   1 &   2 &   3 &   4 &   5 &   6 &   7 &   8 \\\\ \\hline    1 &   2 &   3 &   0 &   0 &   0 &   0 &   0 &   0 \\\\    0 &   1 &   2 &   3 &   0 &   0 &   0 &   0 &   0 \\\\    0 &   0 &   1 &   2 &   0 &   0 &   0 &   0 &   0 \\\\    0 &   0 &   0 &   1 &   2 &   0 &   0 &   0 &   0 \\\\    0 &   0 &   0 &   0 &   1 &   1 &   0 &   0 &   0 \\\\    0 &   0 &   0 &   0 &   0 &   1 &   1 &   0 &   0 \\\\    0 &   0 &   0 &   0 &   0 &   0 &   1 &   2 &   0 \\\\    0 &   0 &   0 &   0 &   0 &   0 &   0 &   1 &   1 \\\\    0 &   0 &   0 &   0 &   0 &   0 &   0 &   0 &   1 \\\\ \\hline \\end{array}$$ |\n",
       "|   3 |   2 |   4 | c     | c     | $$\\begin{array}{rrrrrrrrr} \\hline    0 &   1 &   2 &   3 &   4 &   5 &   6 &   7 &   8 \\\\ \\hline    1 &   2 &   3 &   0 &   0 &   0 &   0 &   0 &   0 \\\\    0 &   1 &   2 &   3 &   0 &   0 &   0 &   0 &   0 \\\\    0 &   0 &   1 &   2 &   3 &   0 &   0 &   0 &   0 \\\\    0 &   0 &   0 &   1 &   2 &   0 &   0 &   0 &   0 \\\\    0 &   0 &   0 &   0 &   1 &   1 &   0 &   0 &   0 \\\\    0 &   0 &   0 &   0 &   0 &   1 &   1 &   0 &   0 \\\\    0 &   0 &   0 &   0 &   0 &   0 &   1 &   2 &   0 \\\\    0 &   0 &   0 &   0 &   0 &   0 &   0 &   1 &   1 \\\\    0 &   0 &   0 &   0 &   0 &   0 &   0 &   0 &   1 \\\\ \\hline \\end{array}$$ |\n",
       "|   3 |   3 |   5 | c     | a     | $$\\begin{array}{rrrrrrrrr} \\hline    0 &   1 &   2 &   3 &   4 &   5 &   6 &   7 &   8 \\\\ \\hline    1 &   2 &   3 &   0 &   0 &   0 &   0 &   0 &   0 \\\\    0 &   1 &   2 &   3 &   0 &   0 &   0 &   0 &   0 \\\\    0 &   0 &   1 &   2 &   3 &   0 &   0 &   0 &   0 \\\\    0 &   0 &   0 &   1 &   2 &   2 &   0 &   0 &   0 \\\\    0 &   0 &   0 &   0 &   1 &   1 &   0 &   0 &   0 \\\\    0 &   0 &   0 &   0 &   0 &   1 &   1 &   0 &   0 \\\\    0 &   0 &   0 &   0 &   0 &   0 &   1 &   2 &   0 \\\\    0 &   0 &   0 &   0 &   0 &   0 &   0 &   1 &   1 \\\\    0 &   0 &   0 &   0 &   0 &   0 &   0 &   0 &   1 \\\\ \\hline \\end{array}$$ |\n",
       "|   3 |   4 |   6 | c     | b     | $$\\begin{array}{rrrrrrrrr} \\hline    0 &   1 &   2 &   3 &   4 &   5 &   6 &   7 &   8 \\\\ \\hline    1 &   2 &   3 &   0 &   0 &   0 &   0 &   0 &   0 \\\\    0 &   1 &   2 &   3 &   0 &   0 &   0 &   0 &   0 \\\\    0 &   0 &   1 &   2 &   3 &   0 &   0 &   0 &   0 \\\\    0 &   0 &   0 &   1 &   2 &   2 &   0 &   0 &   0 \\\\    0 &   0 &   0 &   0 &   1 &   1 &   1 &   0 &   0 \\\\    0 &   0 &   0 &   0 &   0 &   1 &   1 &   0 &   0 \\\\    0 &   0 &   0 &   0 &   0 &   0 &   1 &   2 &   0 \\\\    0 &   0 &   0 &   0 &   0 &   0 &   0 &   1 &   1 \\\\    0 &   0 &   0 &   0 &   0 &   0 &   0 &   0 &   1 \\\\ \\hline \\end{array}$$ |\n",
       "|   3 |   5 |   7 | a     | b     | $$\\begin{array}{rrrrrrrrr} \\hline    0 &   1 &   2 &   3 &   4 &   5 &   6 &   7 &   8 \\\\ \\hline    1 &   2 &   3 &   0 &   0 &   0 &   0 &   0 &   0 \\\\    0 &   1 &   2 &   3 &   0 &   0 &   0 &   0 &   0 \\\\    0 &   0 &   1 &   2 &   3 &   0 &   0 &   0 &   0 \\\\    0 &   0 &   0 &   1 &   2 &   2 &   0 &   0 &   0 \\\\    0 &   0 &   0 &   0 &   1 &   1 &   1 &   0 &   0 \\\\    0 &   0 &   0 &   0 &   0 &   1 &   1 &   2 &   0 \\\\    0 &   0 &   0 &   0 &   0 &   0 &   1 &   2 &   0 \\\\    0 &   0 &   0 &   0 &   0 &   0 &   0 &   1 &   1 \\\\    0 &   0 &   0 &   0 &   0 &   0 &   0 &   0 &   1 \\\\ \\hline \\end{array}$$ |\n",
       "|   3 |   6 |   8 | b     | a     | $$\\begin{array}{rrrrrrrrr} \\hline    0 &   1 &   2 &   3 &   4 &   5 &   6 &   7 &   8 \\\\ \\hline    1 &   2 &   3 &   0 &   0 &   0 &   0 &   0 &   0 \\\\    0 &   1 &   2 &   3 &   0 &   0 &   0 &   0 &   0 \\\\    0 &   0 &   1 &   2 &   3 &   0 &   0 &   0 &   0 \\\\    0 &   0 &   0 &   1 &   2 &   2 &   0 &   0 &   0 \\\\    0 &   0 &   0 &   0 &   1 &   1 &   1 &   0 &   0 \\\\    0 &   0 &   0 &   0 &   0 &   1 &   1 &   2 &   0 \\\\    0 &   0 &   0 &   0 &   0 &   0 &   1 &   2 &   2 \\\\    0 &   0 &   0 &   0 &   0 &   0 &   0 &   1 &   1 \\\\    0 &   0 &   0 &   0 &   0 &   0 &   0 &   0 &   1 \\\\ \\hline \\end{array}$$ |\n",
       "|   4 |   0 |   3 | c     | c     | $$\\begin{array}{rrrrrrrrr} \\hline    0 &   1 &   2 &   3 &   4 &   5 &   6 &   7 &   8 \\\\ \\hline    1 &   2 &   3 &   4 &   0 &   0 &   0 &   0 &   0 \\\\    0 &   1 &   2 &   3 &   0 &   0 &   0 &   0 &   0 \\\\    0 &   0 &   1 &   2 &   3 &   0 &   0 &   0 &   0 \\\\    0 &   0 &   0 &   1 &   2 &   2 &   0 &   0 &   0 \\\\    0 &   0 &   0 &   0 &   1 &   1 &   1 &   0 &   0 \\\\    0 &   0 &   0 &   0 &   0 &   1 &   1 &   2 &   0 \\\\    0 &   0 &   0 &   0 &   0 &   0 &   1 &   2 &   2 \\\\    0 &   0 &   0 &   0 &   0 &   0 &   0 &   1 &   1 \\\\    0 &   0 &   0 &   0 &   0 &   0 &   0 &   0 &   1 \\\\ \\hline \\end{array}$$ |\n",
       "|   4 |   1 |   4 | c     | c     | $$\\begin{array}{rrrrrrrrr} \\hline    0 &   1 &   2 &   3 &   4 &   5 &   6 &   7 &   8 \\\\ \\hline    1 &   2 &   3 &   4 &   0 &   0 &   0 &   0 &   0 \\\\    0 &   1 &   2 &   3 &   4 &   0 &   0 &   0 &   0 \\\\    0 &   0 &   1 &   2 &   3 &   0 &   0 &   0 &   0 \\\\    0 &   0 &   0 &   1 &   2 &   2 &   0 &   0 &   0 \\\\    0 &   0 &   0 &   0 &   1 &   1 &   1 &   0 &   0 \\\\    0 &   0 &   0 &   0 &   0 &   1 &   1 &   2 &   0 \\\\    0 &   0 &   0 &   0 &   0 &   0 &   1 &   2 &   2 \\\\    0 &   0 &   0 &   0 &   0 &   0 &   0 &   1 &   1 \\\\    0 &   0 &   0 &   0 &   0 &   0 &   0 &   0 &   1 \\\\ \\hline \\end{array}$$ |\n",
       "|   4 |   2 |   5 | c     | a     | $$\\begin{array}{rrrrrrrrr} \\hline    0 &   1 &   2 &   3 &   4 &   5 &   6 &   7 &   8 \\\\ \\hline    1 &   2 &   3 &   4 &   0 &   0 &   0 &   0 &   0 \\\\    0 &   1 &   2 &   3 &   4 &   0 &   0 &   0 &   0 \\\\    0 &   0 &   1 &   2 &   3 &   3 &   0 &   0 &   0 \\\\    0 &   0 &   0 &   1 &   2 &   2 &   0 &   0 &   0 \\\\    0 &   0 &   0 &   0 &   1 &   1 &   1 &   0 &   0 \\\\    0 &   0 &   0 &   0 &   0 &   1 &   1 &   2 &   0 \\\\    0 &   0 &   0 &   0 &   0 &   0 &   1 &   2 &   2 \\\\    0 &   0 &   0 &   0 &   0 &   0 &   0 &   1 &   1 \\\\    0 &   0 &   0 &   0 &   0 &   0 &   0 &   0 &   1 \\\\ \\hline \\end{array}$$ |\n",
       "|   4 |   3 |   6 | c     | b     | $$\\begin{array}{rrrrrrrrr} \\hline    0 &   1 &   2 &   3 &   4 &   5 &   6 &   7 &   8 \\\\ \\hline    1 &   2 &   3 &   4 &   0 &   0 &   0 &   0 &   0 \\\\    0 &   1 &   2 &   3 &   4 &   0 &   0 &   0 &   0 \\\\    0 &   0 &   1 &   2 &   3 &   3 &   0 &   0 &   0 \\\\    0 &   0 &   0 &   1 &   2 &   2 &   2 &   0 &   0 \\\\    0 &   0 &   0 &   0 &   1 &   1 &   1 &   0 &   0 \\\\    0 &   0 &   0 &   0 &   0 &   1 &   1 &   2 &   0 \\\\    0 &   0 &   0 &   0 &   0 &   0 &   1 &   2 &   2 \\\\    0 &   0 &   0 &   0 &   0 &   0 &   0 &   1 &   1 \\\\    0 &   0 &   0 &   0 &   0 &   0 &   0 &   0 &   1 \\\\ \\hline \\end{array}$$ |\n",
       "|   4 |   4 |   7 | c     | b     | $$\\begin{array}{rrrrrrrrr} \\hline    0 &   1 &   2 &   3 &   4 &   5 &   6 &   7 &   8 \\\\ \\hline    1 &   2 &   3 &   4 &   0 &   0 &   0 &   0 &   0 \\\\    0 &   1 &   2 &   3 &   4 &   0 &   0 &   0 &   0 \\\\    0 &   0 &   1 &   2 &   3 &   3 &   0 &   0 &   0 \\\\    0 &   0 &   0 &   1 &   2 &   2 &   2 &   0 &   0 \\\\    0 &   0 &   0 &   0 &   1 &   1 &   1 &   2 &   0 \\\\    0 &   0 &   0 &   0 &   0 &   1 &   1 &   2 &   0 \\\\    0 &   0 &   0 &   0 &   0 &   0 &   1 &   2 &   2 \\\\    0 &   0 &   0 &   0 &   0 &   0 &   0 &   1 &   1 \\\\    0 &   0 &   0 &   0 &   0 &   0 &   0 &   0 &   1 \\\\ \\hline \\end{array}$$ |\n",
       "|   4 |   5 |   8 | a     | a     | $$\\begin{array}{rrrrrrrrr} \\hline    0 &   1 &   2 &   3 &   4 &   5 &   6 &   7 &   8 \\\\ \\hline    1 &   2 &   3 &   4 &   0 &   0 &   0 &   0 &   0 \\\\    0 &   1 &   2 &   3 &   4 &   0 &   0 &   0 &   0 \\\\    0 &   0 &   1 &   2 &   3 &   3 &   0 &   0 &   0 \\\\    0 &   0 &   0 &   1 &   2 &   2 &   2 &   0 &   0 \\\\    0 &   0 &   0 &   0 &   1 &   1 &   1 &   2 &   0 \\\\    0 &   0 &   0 &   0 &   0 &   1 &   1 &   2 &   4 \\\\    0 &   0 &   0 &   0 &   0 &   0 &   1 &   2 &   2 \\\\    0 &   0 &   0 &   0 &   0 &   0 &   0 &   1 &   1 \\\\    0 &   0 &   0 &   0 &   0 &   0 &   0 &   0 &   1 \\\\ \\hline \\end{array}$$ |\n",
       "|   5 |   0 |   4 | c     | c     | $$\\begin{array}{rrrrrrrrr} \\hline    0 &   1 &   2 &   3 &   4 &   5 &   6 &   7 &   8 \\\\ \\hline    1 &   2 &   3 &   4 &   5 &   0 &   0 &   0 &   0 \\\\    0 &   1 &   2 &   3 &   4 &   0 &   0 &   0 &   0 \\\\    0 &   0 &   1 &   2 &   3 &   3 &   0 &   0 &   0 \\\\    0 &   0 &   0 &   1 &   2 &   2 &   2 &   0 &   0 \\\\    0 &   0 &   0 &   0 &   1 &   1 &   1 &   2 &   0 \\\\    0 &   0 &   0 &   0 &   0 &   1 &   1 &   2 &   4 \\\\    0 &   0 &   0 &   0 &   0 &   0 &   1 &   2 &   2 \\\\    0 &   0 &   0 &   0 &   0 &   0 &   0 &   1 &   1 \\\\    0 &   0 &   0 &   0 &   0 &   0 &   0 &   0 &   1 \\\\ \\hline \\end{array}$$ |\n",
       "|   5 |   1 |   5 | c     | a     | $$\\begin{array}{rrrrrrrrr} \\hline    0 &   1 &   2 &   3 &   4 &   5 &   6 &   7 &   8 \\\\ \\hline    1 &   2 &   3 &   4 &   5 &   0 &   0 &   0 &   0 \\\\    0 &   1 &   2 &   3 &   4 &   4 &   0 &   0 &   0 \\\\    0 &   0 &   1 &   2 &   3 &   3 &   0 &   0 &   0 \\\\    0 &   0 &   0 &   1 &   2 &   2 &   2 &   0 &   0 \\\\    0 &   0 &   0 &   0 &   1 &   1 &   1 &   2 &   0 \\\\    0 &   0 &   0 &   0 &   0 &   1 &   1 &   2 &   4 \\\\    0 &   0 &   0 &   0 &   0 &   0 &   1 &   2 &   2 \\\\    0 &   0 &   0 &   0 &   0 &   0 &   0 &   1 &   1 \\\\    0 &   0 &   0 &   0 &   0 &   0 &   0 &   0 &   1 \\\\ \\hline \\end{array}$$ |\n",
       "|   5 |   2 |   6 | c     | b     | $$\\begin{array}{rrrrrrrrr} \\hline    0 &   1 &   2 &   3 &   4 &   5 &   6 &   7 &   8 \\\\ \\hline    1 &   2 &   3 &   4 &   5 &   0 &   0 &   0 &   0 \\\\    0 &   1 &   2 &   3 &   4 &   4 &   0 &   0 &   0 \\\\    0 &   0 &   1 &   2 &   3 &   3 &   3 &   0 &   0 \\\\    0 &   0 &   0 &   1 &   2 &   2 &   2 &   0 &   0 \\\\    0 &   0 &   0 &   0 &   1 &   1 &   1 &   2 &   0 \\\\    0 &   0 &   0 &   0 &   0 &   1 &   1 &   2 &   4 \\\\    0 &   0 &   0 &   0 &   0 &   0 &   1 &   2 &   2 \\\\    0 &   0 &   0 &   0 &   0 &   0 &   0 &   1 &   1 \\\\    0 &   0 &   0 &   0 &   0 &   0 &   0 &   0 &   1 \\\\ \\hline \\end{array}$$ |\n",
       "|   5 |   3 |   7 | c     | b     | $$\\begin{array}{rrrrrrrrr} \\hline    0 &   1 &   2 &   3 &   4 &   5 &   6 &   7 &   8 \\\\ \\hline    1 &   2 &   3 &   4 &   5 &   0 &   0 &   0 &   0 \\\\    0 &   1 &   2 &   3 &   4 &   4 &   0 &   0 &   0 \\\\    0 &   0 &   1 &   2 &   3 &   3 &   3 &   0 &   0 \\\\    0 &   0 &   0 &   1 &   2 &   2 &   2 &   2 &   0 \\\\    0 &   0 &   0 &   0 &   1 &   1 &   1 &   2 &   0 \\\\    0 &   0 &   0 &   0 &   0 &   1 &   1 &   2 &   4 \\\\    0 &   0 &   0 &   0 &   0 &   0 &   1 &   2 &   2 \\\\    0 &   0 &   0 &   0 &   0 &   0 &   0 &   1 &   1 \\\\    0 &   0 &   0 &   0 &   0 &   0 &   0 &   0 &   1 \\\\ \\hline \\end{array}$$ |\n",
       "|   5 |   4 |   8 | c     | a     | $$\\begin{array}{rrrrrrrrr} \\hline    0 &   1 &   2 &   3 &   4 &   5 &   6 &   7 &   8 \\\\ \\hline    1 &   2 &   3 &   4 &   5 &   0 &   0 &   0 &   0 \\\\    0 &   1 &   2 &   3 &   4 &   4 &   0 &   0 &   0 \\\\    0 &   0 &   1 &   2 &   3 &   3 &   3 &   0 &   0 \\\\    0 &   0 &   0 &   1 &   2 &   2 &   2 &   2 &   0 \\\\    0 &   0 &   0 &   0 &   1 &   1 &   1 &   2 &   4 \\\\    0 &   0 &   0 &   0 &   0 &   1 &   1 &   2 &   4 \\\\    0 &   0 &   0 &   0 &   0 &   0 &   1 &   2 &   2 \\\\    0 &   0 &   0 &   0 &   0 &   0 &   0 &   1 &   1 \\\\    0 &   0 &   0 &   0 &   0 &   0 &   0 &   0 &   1 \\\\ \\hline \\end{array}$$ |\n",
       "|   6 |   0 |   5 | c     | a     | $$\\begin{array}{rrrrrrrrr} \\hline    0 &   1 &   2 &   3 &   4 &   5 &   6 &   7 &   8 \\\\ \\hline    1 &   2 &   3 &   4 &   5 &   5 &   0 &   0 &   0 \\\\    0 &   1 &   2 &   3 &   4 &   4 &   0 &   0 &   0 \\\\    0 &   0 &   1 &   2 &   3 &   3 &   3 &   0 &   0 \\\\    0 &   0 &   0 &   1 &   2 &   2 &   2 &   2 &   0 \\\\    0 &   0 &   0 &   0 &   1 &   1 &   1 &   2 &   4 \\\\    0 &   0 &   0 &   0 &   0 &   1 &   1 &   2 &   4 \\\\    0 &   0 &   0 &   0 &   0 &   0 &   1 &   2 &   2 \\\\    0 &   0 &   0 &   0 &   0 &   0 &   0 &   1 &   1 \\\\    0 &   0 &   0 &   0 &   0 &   0 &   0 &   0 &   1 \\\\ \\hline \\end{array}$$ |\n",
       "|   6 |   1 |   6 | c     | b     | $$\\begin{array}{rrrrrrrrr} \\hline    0 &   1 &   2 &   3 &   4 &   5 &   6 &   7 &   8 \\\\ \\hline    1 &   2 &   3 &   4 &   5 &   5 &   0 &   0 &   0 \\\\    0 &   1 &   2 &   3 &   4 &   4 &   4 &   0 &   0 \\\\    0 &   0 &   1 &   2 &   3 &   3 &   3 &   0 &   0 \\\\    0 &   0 &   0 &   1 &   2 &   2 &   2 &   2 &   0 \\\\    0 &   0 &   0 &   0 &   1 &   1 &   1 &   2 &   4 \\\\    0 &   0 &   0 &   0 &   0 &   1 &   1 &   2 &   4 \\\\    0 &   0 &   0 &   0 &   0 &   0 &   1 &   2 &   2 \\\\    0 &   0 &   0 &   0 &   0 &   0 &   0 &   1 &   1 \\\\    0 &   0 &   0 &   0 &   0 &   0 &   0 &   0 &   1 \\\\ \\hline \\end{array}$$ |\n",
       "|   6 |   2 |   7 | c     | b     | $$\\begin{array}{rrrrrrrrr} \\hline    0 &   1 &   2 &   3 &   4 &   5 &   6 &   7 &   8 \\\\ \\hline    1 &   2 &   3 &   4 &   5 &   5 &   0 &   0 &   0 \\\\    0 &   1 &   2 &   3 &   4 &   4 &   4 &   0 &   0 \\\\    0 &   0 &   1 &   2 &   3 &   3 &   3 &   3 &   0 \\\\    0 &   0 &   0 &   1 &   2 &   2 &   2 &   2 &   0 \\\\    0 &   0 &   0 &   0 &   1 &   1 &   1 &   2 &   4 \\\\    0 &   0 &   0 &   0 &   0 &   1 &   1 &   2 &   4 \\\\    0 &   0 &   0 &   0 &   0 &   0 &   1 &   2 &   2 \\\\    0 &   0 &   0 &   0 &   0 &   0 &   0 &   1 &   1 \\\\    0 &   0 &   0 &   0 &   0 &   0 &   0 &   0 &   1 \\\\ \\hline \\end{array}$$ |\n",
       "|   6 |   3 |   8 | c     | a     | $$\\begin{array}{rrrrrrrrr} \\hline    0 &   1 &   2 &   3 &   4 &   5 &   6 &   7 &   8 \\\\ \\hline    1 &   2 &   3 &   4 &   5 &   5 &   0 &   0 &   0 \\\\    0 &   1 &   2 &   3 &   4 &   4 &   4 &   0 &   0 \\\\    0 &   0 &   1 &   2 &   3 &   3 &   3 &   3 &   0 \\\\    0 &   0 &   0 &   1 &   2 &   2 &   2 &   2 &   4 \\\\    0 &   0 &   0 &   0 &   1 &   1 &   1 &   2 &   4 \\\\    0 &   0 &   0 &   0 &   0 &   1 &   1 &   2 &   4 \\\\    0 &   0 &   0 &   0 &   0 &   0 &   1 &   2 &   2 \\\\    0 &   0 &   0 &   0 &   0 &   0 &   0 &   1 &   1 \\\\    0 &   0 &   0 &   0 &   0 &   0 &   0 &   0 &   1 \\\\ \\hline \\end{array}$$ |\n",
       "|   7 |   0 |   6 | c     | b     | $$\\begin{array}{rrrrrrrrr} \\hline    0 &   1 &   2 &   3 &   4 &   5 &   6 &   7 &   8 \\\\ \\hline    1 &   2 &   3 &   4 &   5 &   5 &   5 &   0 &   0 \\\\    0 &   1 &   2 &   3 &   4 &   4 &   4 &   0 &   0 \\\\    0 &   0 &   1 &   2 &   3 &   3 &   3 &   3 &   0 \\\\    0 &   0 &   0 &   1 &   2 &   2 &   2 &   2 &   4 \\\\    0 &   0 &   0 &   0 &   1 &   1 &   1 &   2 &   4 \\\\    0 &   0 &   0 &   0 &   0 &   1 &   1 &   2 &   4 \\\\    0 &   0 &   0 &   0 &   0 &   0 &   1 &   2 &   2 \\\\    0 &   0 &   0 &   0 &   0 &   0 &   0 &   1 &   1 \\\\    0 &   0 &   0 &   0 &   0 &   0 &   0 &   0 &   1 \\\\ \\hline \\end{array}$$ |\n",
       "|   7 |   1 |   7 | c     | b     | $$\\begin{array}{rrrrrrrrr} \\hline    0 &   1 &   2 &   3 &   4 &   5 &   6 &   7 &   8 \\\\ \\hline    1 &   2 &   3 &   4 &   5 &   5 &   5 &   0 &   0 \\\\    0 &   1 &   2 &   3 &   4 &   4 &   4 &   4 &   0 \\\\    0 &   0 &   1 &   2 &   3 &   3 &   3 &   3 &   0 \\\\    0 &   0 &   0 &   1 &   2 &   2 &   2 &   2 &   4 \\\\    0 &   0 &   0 &   0 &   1 &   1 &   1 &   2 &   4 \\\\    0 &   0 &   0 &   0 &   0 &   1 &   1 &   2 &   4 \\\\    0 &   0 &   0 &   0 &   0 &   0 &   1 &   2 &   2 \\\\    0 &   0 &   0 &   0 &   0 &   0 &   0 &   1 &   1 \\\\    0 &   0 &   0 &   0 &   0 &   0 &   0 &   0 &   1 \\\\ \\hline \\end{array}$$ |\n",
       "|   7 |   2 |   8 | c     | a     | $$\\begin{array}{rrrrrrrrr} \\hline    0 &   1 &   2 &   3 &   4 &   5 &   6 &   7 &   8 \\\\ \\hline    1 &   2 &   3 &   4 &   5 &   5 &   5 &   0 &   0 \\\\    0 &   1 &   2 &   3 &   4 &   4 &   4 &   4 &   0 \\\\    0 &   0 &   1 &   2 &   3 &   3 &   3 &   3 &   4 \\\\    0 &   0 &   0 &   1 &   2 &   2 &   2 &   2 &   4 \\\\    0 &   0 &   0 &   0 &   1 &   1 &   1 &   2 &   4 \\\\    0 &   0 &   0 &   0 &   0 &   1 &   1 &   2 &   4 \\\\    0 &   0 &   0 &   0 &   0 &   0 &   1 &   2 &   2 \\\\    0 &   0 &   0 &   0 &   0 &   0 &   0 &   1 &   1 \\\\    0 &   0 &   0 &   0 &   0 &   0 &   0 &   0 &   1 \\\\ \\hline \\end{array}$$ |\n",
       "|   8 |   0 |   7 | c     | b     | $$\\begin{array}{rrrrrrrrr} \\hline    0 &   1 &   2 &   3 &   4 &   5 &   6 &   7 &   8 \\\\ \\hline    1 &   2 &   3 &   4 &   5 &   5 &   5 &   5 &   0 \\\\    0 &   1 &   2 &   3 &   4 &   4 &   4 &   4 &   0 \\\\    0 &   0 &   1 &   2 &   3 &   3 &   3 &   3 &   4 \\\\    0 &   0 &   0 &   1 &   2 &   2 &   2 &   2 &   4 \\\\    0 &   0 &   0 &   0 &   1 &   1 &   1 &   2 &   4 \\\\    0 &   0 &   0 &   0 &   0 &   1 &   1 &   2 &   4 \\\\    0 &   0 &   0 &   0 &   0 &   0 &   1 &   2 &   2 \\\\    0 &   0 &   0 &   0 &   0 &   0 &   0 &   1 &   1 \\\\    0 &   0 &   0 &   0 &   0 &   0 &   0 &   0 &   1 \\\\ \\hline \\end{array}$$ |\n",
       "|   8 |   1 |   8 | c     | a     | $$\\begin{array}{rrrrrrrrr} \\hline    0 &   1 &   2 &   3 &   4 &   5 &   6 &   7 &   8 \\\\ \\hline    1 &   2 &   3 &   4 &   5 &   5 &   5 &   5 &   0 \\\\    0 &   1 &   2 &   3 &   4 &   4 &   4 &   4 &   4 \\\\    0 &   0 &   1 &   2 &   3 &   3 &   3 &   3 &   4 \\\\    0 &   0 &   0 &   1 &   2 &   2 &   2 &   2 &   4 \\\\    0 &   0 &   0 &   0 &   1 &   1 &   1 &   2 &   4 \\\\    0 &   0 &   0 &   0 &   0 &   1 &   1 &   2 &   4 \\\\    0 &   0 &   0 &   0 &   0 &   0 &   1 &   2 &   2 \\\\    0 &   0 &   0 &   0 &   0 &   0 &   0 &   1 &   1 \\\\    0 &   0 &   0 &   0 &   0 &   0 &   0 &   0 &   1 \\\\ \\hline \\end{array}$$ |\n",
       "|   9 |   0 |   8 | c     | a     | $$\\begin{array}{rrrrrrrrr} \\hline    0 &   1 &   2 &   3 &   4 &   5 &   6 &   7 &   8 \\\\ \\hline    1 &   2 &   3 &   4 &   5 &   5 &   5 &   5 &   5 \\\\    0 &   1 &   2 &   3 &   4 &   4 &   4 &   4 &   4 \\\\    0 &   0 &   1 &   2 &   3 &   3 &   3 &   3 &   4 \\\\    0 &   0 &   0 &   1 &   2 &   2 &   2 &   2 &   4 \\\\    0 &   0 &   0 &   0 &   1 &   1 &   1 &   2 &   4 \\\\    0 &   0 &   0 &   0 &   0 &   1 &   1 &   2 &   4 \\\\    0 &   0 &   0 &   0 &   0 &   0 &   1 &   2 &   2 \\\\    0 &   0 &   0 &   0 &   0 &   0 &   0 &   1 &   1 \\\\    0 &   0 &   0 &   0 &   0 &   0 &   0 &   0 &   1 \\\\ \\hline \\end{array}$$ |\n"
      ],
      "text/plain": [
       "<IPython.core.display.Markdown object>"
      ]
     },
     "metadata": {},
     "output_type": "display_data"
    }
   ],
   "source": [
    "from src.dp.record import DpList\n",
    "from src.display import Display\n",
    "\n",
    "def longest_palindrome_subsequence(s: str):\n",
    "    n = len(s)\n",
    "    dp = DpList([[0] * len(s) for _ in range(n)])\n",
    "\n",
    "    for i in range(n):\n",
    "        dp[i][i] = 1\n",
    "\n",
    "    dp.start(\"initialization\", dp=dp.deepcopy()).stop()\n",
    "\n",
    "    for i in range(n-1):\n",
    "        value = 2 if s[i] == s[i+1] else 1\n",
    "        dp[i][i+1] = value\n",
    "        dp.start(\"dp_fill_1\", i=i, dp=dp.deepcopy()).stop()\n",
    "\n",
    "\n",
    "    for k in range(3, n + 1):\n",
    "        for i in range(n - k + 1):\n",
    "            j = i + k - 1\n",
    "\n",
    "            if s[i] == s[j]:\n",
    "                dp[i][j] = 2 + dp[i+1][j-1]\n",
    "            else:\n",
    "                dp[i][j] = max(dp[i+1][j], dp[i][j-1])\n",
    "\n",
    "            dp.start(\"dp_fill_2\", k=k, i=i, j=j, s_i=s[i], s_j=s[j], dp=dp.deepcopy()).stop()\n",
    "\n",
    "    return dp[0][n-1], dp\n",
    "\n",
    "dp = longest_palindrome_subsequence(\"cccccabba\")[1]\n",
    "\n",
    "assert longest_palindrome_subsequence(\"dabzzobae\")[0] == 6\n",
    "assert longest_palindrome_subsequence(\"dabzobae\")[0] == 5\n",
    "assert longest_palindrome_subsequence(\"dabbae\")[0] == 4\n",
    "\n",
    "Display.md(f\"\"\"\n",
    "### Steps\n",
    "#### Initialization\n",
    "\n",
    "{dp.to_markdown(\"initialization\")}\n",
    "\n",
    "#### Fill Same Characters Next to Each Other\n",
    "\n",
    "{dp.to_markdown(\"dp_fill_1\")}\n",
    "\n",
    "#### Final Fill\n",
    "\n",
    "{dp.to_markdown(\"dp_fill_2\")}\n",
    "\"\"\")"
   ]
  },
  {
   "cell_type": "code",
   "execution_count": 11,
   "metadata": {},
   "outputs": [
    {
     "name": "stdout",
     "output_type": "stream",
     "text": [
      "The minimum number of stops: 3\n",
      "The stations stopped at: [2, 3, 1, 9]\n"
     ]
    },
    {
     "data": {
      "text/markdown": [
       "\n",
       "### Steps\n",
       "#### Initialization\n",
       "\n",
       "| dp                                | b                     |\n",
       "|-----------------------------------|-----------------------|\n",
       "| [0, inf, inf, inf, inf, inf, inf] | [2, 0, 3, 4, 8, 1, 9] |\n",
       "\n",
       "#### DP Fill\n",
       "\n",
       "| dp                              |   i |   j | b                     |\n",
       "|---------------------------------|-----|-----|-----------------------|\n",
       "| [0, 1, inf, inf, inf, inf, inf] |   1 |   0 | [2, 0, 3, 4, 8, 1, 9] |\n",
       "| [0, 1, 1, inf, inf, inf, inf]   |   2 |   0 | [2, 0, 3, 4, 8, 1, 9] |\n",
       "| [0, 1, 1, 2, inf, inf, inf]     |   3 |   2 | [2, 0, 3, 4, 8, 1, 9] |\n",
       "| [0, 1, 1, 2, 2, inf, inf]       |   4 |   2 | [2, 0, 3, 4, 8, 1, 9] |\n",
       "| [0, 1, 1, 2, 2, inf, inf]       |   4 |   3 | [2, 0, 3, 4, 8, 1, 9] |\n",
       "| [0, 1, 1, 2, 2, 2, inf]         |   5 |   2 | [2, 0, 3, 4, 8, 1, 9] |\n",
       "| [0, 1, 1, 2, 2, 2, inf]         |   5 |   3 | [2, 0, 3, 4, 8, 1, 9] |\n",
       "| [0, 1, 1, 2, 2, 2, inf]         |   5 |   4 | [2, 0, 3, 4, 8, 1, 9] |\n",
       "| [0, 1, 1, 2, 2, 2, 3]           |   6 |   3 | [2, 0, 3, 4, 8, 1, 9] |\n",
       "| [0, 1, 1, 2, 2, 2, 3]           |   6 |   4 | [2, 0, 3, 4, 8, 1, 9] |\n",
       "| [0, 1, 1, 2, 2, 2, 3]           |   6 |   5 | [2, 0, 3, 4, 8, 1, 9] |\n",
       "\n",
       "#### Reconstruction\n",
       "\n",
       "| dp                    |   i | b                     | stations     |\n",
       "|-----------------------|-----|-----------------------|--------------|\n",
       "| [0, 1, 1, 2, 2, 2, 3] |   6 | [2, 0, 3, 4, 8, 1, 9] | [9]          |\n",
       "| [0, 1, 1, 2, 2, 2, 3] |   5 | [2, 0, 3, 4, 8, 1, 9] | [9, 1]       |\n",
       "| [0, 1, 1, 2, 2, 2, 3] |   2 | [2, 0, 3, 4, 8, 1, 9] | [9, 1, 3]    |\n",
       "| [0, 1, 1, 2, 2, 2, 3] |   0 | [2, 0, 3, 4, 8, 1, 9] | [9, 1, 3, 2] |\n"
      ],
      "text/plain": [
       "<IPython.core.display.Markdown object>"
      ]
     },
     "metadata": {},
     "output_type": "display_data"
    }
   ],
   "source": [
    "from src.dp.record import DpList\n",
    "from src.display import Display\n",
    "from typing import List\n",
    "\n",
    "INF = float(\"inf\")\n",
    "\n",
    "def min_battery_stops(b: List[int]):\n",
    "    n = len(b)  # Since we start at station 0\n",
    "    dp = DpList([0] + ([INF] * (n - 1))) # No stops needed at the start, every other station is inf\n",
    "\n",
    "    dp.start(\"initialization\", dp=dp[:], b=b).stop()\n",
    "    \n",
    "    for i in range(1, n):\n",
    "        for j in range(0, i):\n",
    "            if j + b[j] >= i:  # Check if we can reach station i from station j\n",
    "                dp[i] = min(dp[i], dp[j] + 1)\n",
    "                dp.start(\"dp_fill_1\", dp=dp[:], i=i, j=j, b=b).stop()\n",
    "    \n",
    "    min_steps = dp[n-1]\n",
    "\n",
    "    if min_steps == INF:\n",
    "        return INF, None, dp  # If we can't reach the end, return INF\n",
    "    else:\n",
    "\n",
    "        stations = []\n",
    "        current_length = min_steps\n",
    "        for i in range(n - 1, -1, -1):\n",
    "            if dp[i] == current_length:\n",
    "                stations.append(b[i])\n",
    "                current_length -= 1\n",
    "                dp.start(\"reconstruction\", dp=dp[:], i=i, b=b, stations=stations[:]).stop()\n",
    "        \n",
    "        # The stations is constructed in reverse, so we reverse it\n",
    "        stations.reverse()\n",
    "\n",
    "        return min_steps, stations, dp\n",
    "\n",
    "b = [2, 0, 3, 4, 8, 1, 9]\n",
    "stops, stations, dp = min_battery_stops(b)\n",
    "print(\"The minimum number of stops:\", stops)\n",
    "print(\"The stations stopped at:\", stations)\n",
    "\n",
    "Display.md(f\"\"\"\n",
    "### Steps\n",
    "#### Initialization\n",
    "\n",
    "{dp.to_markdown(\"initialization\")}\n",
    "\n",
    "#### DP Fill\n",
    "\n",
    "{dp.to_markdown(\"dp_fill_1\")}\n",
    "\n",
    "#### Reconstruction\n",
    "\n",
    "{dp.to_markdown(\"reconstruction\")}\n",
    "\"\"\")"
   ]
  }
 ],
 "metadata": {
  "kernelspec": {
   "display_name": ".venv",
   "language": "python",
   "name": "python3"
  },
  "language_info": {
   "codemirror_mode": {
    "name": "ipython",
    "version": 3
   },
   "file_extension": ".py",
   "mimetype": "text/x-python",
   "name": "python",
   "nbconvert_exporter": "python",
   "pygments_lexer": "ipython3",
   "version": "3.10.12"
  }
 },
 "nbformat": 4,
 "nbformat_minor": 2
}
